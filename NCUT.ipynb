{
 "cells": [
  {
   "cell_type": "code",
   "execution_count": 1,
   "metadata": {
    "collapsed": false
   },
   "outputs": [
    {
     "name": "stdout",
     "output_type": "stream",
     "text": [
      "Login to ncut\n",
      "DDDDD=2015309040110&upass=lxw1993822&0MKKey=%E7%99%BB+%E9%99%86\n",
      "Status: 200 OK\n",
      "Server: DrcomServer1.0\n",
      "Accept-Ranges: bytes\n",
      "Connection: keep-alive\n",
      "Content-type: text/html; charset=gbk\n",
      "Cache-Control: no-cache\n",
      "Content-length: 3058\n",
      "Data: <html>\n",
      "\n",
      "<head></head>\n",
      "<meta http-equiv=\"Content-Type\" content=\"text/html; charset=gb2312\">\n",
      "<title>北方工业大学</title>\n",
      "<script language=\"JavaScript\">\n",
      "Gno=05;UID='2015309040110             ';m=1;UL='http://hm.baidu.com/hm.gif?cc=0&ck=1&cl=24-bit&ds=1366x768&ep=15999%2C16000&et=3&fl=21.0&ja=1&ln=zh-CN&lo=0&lt=1458783200&nv=0&rnd=                                                                     ';mcode=\"FFFF\";\n",
      "url1='http://192.168.254.251:9002/0'  ;\n",
      "\n",
      "if((navigator.userAgent.indexOf('iPad') > 0) || (navigator.userAgent.indexOf('Windows NT') > 0))tmphtml=0;\n",
      "else if((navigator.userAgent.indexOf('Mobile') > 0) ){tmphtml=1;}\n",
      "else tmphtml=0;\n",
      "//if(tmphtml==0)window.open(url1,'','width=280,height=60,left=0,top=0,resizable=1');\n",
      "\n",
      "//if(m!=0)window.location=UL;\n",
      "//else{/*A window.location='UuU'                                                                               ;a*/}\n",
      "\n",
      "function checkphone(){\n",
      "if(tmphtml==0)return;\n",
      "PostForm.RET.value=33;\n",
      "PostForm.INFO.value=\"Gno=\"+Gno+\";UID='\"+UID+\"';m=\"+m+\";UL='\"+UL+\"';url1='\"+url1+\"';\";\n",
      "document.PostForm.submit();\n",
      "}\n",
      "\n",
      "//window.location='1.htm';\n",
      "</script>\n",
      "<style><!--\n",
      "a {text-decoration: none;}\n",
      "body {margin:0; padding:0; text-align:center; background-color:#ffffff; }\n",
      ".font1 {font-family:微软雅黑; font-size:16px; line-height: 22px; color:#000000;}\n",
      ".con {width:1000px; height:493px; position:absolute; top:50%;left:50%;margin:-260px 0 0 -500px;}\n",
      ".main {background-image: url('a01.jpg'); background-repeat: no-repeat; float: left;width:1000px; height:493px}\n",
      ".main .login {float: left; height:130px; width:270px; margin-top:90px; margin-left:60px; font-family:微软雅黑; font-size: 16px; line-height: 24px;}\n",
      ".btn {BORDER: 1px #C54600 solid; background:#4FA7E7; height:30px; width:80px; font-family:微软雅黑; border:none; font-size:18px;font-weight:500; color:#fff;}\n",
      ".input{border:1px solid #D7D7D7; font-family: 微软雅黑; width:180px; line-height:30px; font-size:19px; height:28px;}\n",
      "--></style>\n",
      "<!--Dr.COMWebLoginID_3.htm-->\n",
      "<body onselectstart=\"return false\" onload=\"checkphone()\">\n",
      "<div class=\"con\">\n",
      "<div class=\"main\">\n",
      "<div class=\"bg\">\n",
      "<div style=\"height:410px; width:550px; float: left\"></div>\n",
      "<div style=\"float: left; height:20px; width:390px; margin-top:100px; font-family:微软雅黑; font-size: 14px; line-height: 24px;\">\n",
      "\t<a href=\"http://202.204.25.69:8080/client.exe\">上网客户端下载</a>　　<a href=\"http://202.204.25.69:8080/info.htm\">常见问题</a>　　<a href=\"http://202.204.25.69:8080/Self\">用户自助服务</a></div>\n",
      "<div class=\"login\">\n",
      "<table border=\"0\" cellspacing=\"1\" cellpadding=\"0\" class=\"font1\" width=\"100%\" height=\"100%\">\n",
      "<form name=form1 method=post action=\"\">\n",
      "\t<tr>\n",
      "\t\t<td height=\"120\" width=\"99%\" align=\"left\">\n",
      "\t\t\t<p align=\"center\">您已登陆成功</td>\n",
      "\t</tr>\n",
      "\t</form>\n",
      "\n",
      "</table>\n",
      "</div>\n",
      "</div>\n",
      "<div class=\"foot\">　</div>\n",
      "</div>\n",
      "</div>\n",
      "\n",
      "<FORM NAME=\"PostForm\" action=\"/\" method=post>\n",
      "<INPUT TYPE=\"hidden\" NAME=\"RET\" value=\"\"  >\n",
      "<INPUT TYPE=\"hidden\" NAME=\"INFO\" value=\"\"  >\n",
      "<INPUT TYPE=\"hidden\" NAME=\"INFO1\" value=\"\"  >\n",
      "</FORM>\n",
      "\n",
      "</body>\n",
      "</html>\n"
     ]
    }
   ],
   "source": [
    "'''\n",
    "Login NCUT Web\n",
    "'''\n",
    "from urllib import request, parse\n",
    "\n",
    "print('Login to ncut')\n",
    "username = '2015309040110'#input('Username: ')\n",
    "passwd = 'lxw1993822'#input('Password: ')\n",
    "login_data = parse.urlencode([\n",
    "    ('DDDDD', username),\n",
    "    ('upass', passwd),\n",
    "    ('0MKKey', '登 陆'.encode('utf-8'))\n",
    "])\n",
    "print(login_data)\n",
    "req = request.Request('http://192.168.254.251')\n",
    "req.add_header('Accept','text/html,application/xhtml+xml,application/xml;q=0.9,image/webp,*/*;q=0.8')\n",
    "req.add_header('Accept-Encoding','gzip, deflate')\n",
    "req.add_header('Accept-Language','zh-CN,zh;q=0.8,en;q=0.6')\n",
    "req.add_header('Cache-Control','max-age=0')\n",
    "req.add_header('Connection','keep-alive')\n",
    "req.add_header('Content-Length','73')\n",
    "req.add_header('Content-Type','application/x-www-form-urlencoded')\n",
    "req.add_header('Host','192.168.254.251')\n",
    "req.add_header('Origin','http://192.168.254.251')\n",
    "req.add_header('Referer','http://192.168.254.251/0.htm')\n",
    "req.add_header('Upgrade-Insecure-Requests','1')\n",
    "req.add_header('User-Agent','Mozilla/5.0 (Macintosh; Intel Mac OS X 10_11_3) AppleWebKit/537.36 (KHTML, like Gecko) Chrome/49.0.2623.87 Safari/537.36')\n",
    "\n",
    "with request.urlopen(req, data=login_data.encode('utf-8')) as f:\n",
    "    print('Status:', f.status, f.reason)\n",
    "    for k, v in f.getheaders():\n",
    "        print('%s: %s' % (k, v))\n",
    "    print('Data:', f.read().decode('gbk'))"
   ]
  },
  {
   "cell_type": "code",
   "execution_count": 193,
   "metadata": {
    "collapsed": false
   },
   "outputs": [
    {
     "data": {
      "text/plain": [
       "'5rw468o0j728wxhw6tv1b2chqeehh29p'"
      ]
     },
     "execution_count": 193,
     "metadata": {},
     "output_type": "execute_result"
    }
   ],
   "source": [
    "'''\n",
    "Forwarder IP\n",
    "#''.join(alpha[rnd.randint(0, len(alpha) - 1)] for x in range(32))\n",
    "#''.join()的主要作用是将list或者tuple 即有__iter__的对象 连接成一个字符串\n",
    "'''\n",
    "import random\n",
    "from functools import reduce\n",
    "def generate_random_key(length=32, alpha=None, seed=None):\n",
    "    rnd = random.Random(seed)\n",
    "    alpha = ''.join(map(lambda x:chr(97 + x),range(26))) + ''.join(map(lambda x : chr(48+x),range(10)))\n",
    "    return ''.join(map(lambda x: alpha[rnd.randint(0,len(alpha) - 1)],range(length)))\n",
    "generate_random_key()"
   ]
  }
 ],
 "metadata": {
  "kernelspec": {
   "display_name": "Python 3",
   "language": "python",
   "name": "python3"
  },
  "language_info": {
   "codemirror_mode": {
    "name": "ipython",
    "version": 3
   },
   "file_extension": ".py",
   "mimetype": "text/x-python",
   "name": "python",
   "nbconvert_exporter": "python",
   "pygments_lexer": "ipython3",
   "version": "3.5.1"
  }
 },
 "nbformat": 4,
 "nbformat_minor": 0
}
