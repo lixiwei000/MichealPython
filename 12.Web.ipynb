{
 "cells": [
  {
   "cell_type": "code",
   "execution_count": 1,
   "metadata": {
    "collapsed": true
   },
   "outputs": [],
   "source": [
    "#WSGI接口--封装了HTTP\n",
    "def application(environ,start_response):\n",
    "    start_response('200 OK',[('Content-Type','text/html')])\n",
    "    body = '<h1>Hello,%s!</h1>' % (environ['PATH_INFO'][1:] or 'Web')\n",
    "    return [body.encode(\"utf-8\")]\n"
   ]
  },
  {
   "cell_type": "code",
   "execution_count": null,
   "metadata": {
    "collapsed": false,
    "scrolled": true
   },
   "outputs": [
    {
     "name": "stdout",
     "output_type": "stream",
     "text": [
      "Serving HTTP on port 8000\n"
     ]
    },
    {
     "name": "stderr",
     "output_type": "stream",
     "text": [
      "127.0.0.1 - - [22/Mar/2016 00:12:25] \"GET /nimabi HTTP/1.1\" 200 22\n",
      "127.0.0.1 - - [22/Mar/2016 00:12:26] \"GET /favicon.ico HTTP/1.1\" 200 27\n",
      "127.0.0.1 - - [22/Mar/2016 00:12:33] \"GET /%E6%88%91%E8%8D%89%E4%BD%A0%E5%A7%A5%E5%A7%A5%C2%A0%E3%80%81%E3%80%81%E3%80%81%E3%80%81//// HTTP/1.1\" 200 78\n",
      "127.0.0.1 - - [22/Mar/2016 00:12:34] \"GET /favicon.ico HTTP/1.1\" 200 27\n",
      "127.0.0.1 - - [22/Mar/2016 00:12:38] \"GET /%E5%8D%A7%E6%A7%BD HTTP/1.1\" 200 28\n",
      "127.0.0.1 - - [22/Mar/2016 00:12:39] \"GET /favicon.ico HTTP/1.1\" 200 27\n"
     ]
    }
   ],
   "source": [
    "from wsgiref.simple_server import make_server\n",
    "httpd = make_server('',8000,application)\n",
    "print(\"Serving HTTP on port 8000\")\n",
    "httpd.serve_forever()"
   ]
  },
  {
   "cell_type": "code",
   "execution_count": null,
   "metadata": {
    "collapsed": false
   },
   "outputs": [],
   "source": [
    "#Flask  实现了WSGI\n",
    "from flask import Flask\n",
    "from flask import request\n",
    "\n",
    "app = Flask(__name__)\n",
    "\n",
    "@app.route('/', methods=['GET', 'POST'])\n",
    "def home():\n",
    "    return '<h1>Home</h1>'\n",
    "\n",
    "@app.route('/signin', methods=['GET'])\n",
    "def signin_form():\n",
    "    return '''<form action=\"/signin\" method=\"post\">\n",
    "              <p><input name=\"username\"></p>\n",
    "              <p><input name=\"password\" type=\"password\"></p>\n",
    "              <p><button type=\"submit\">Sign In</button></p>\n",
    "              </form>'''\n",
    "\n",
    "@app.route('/signin', methods=['POST'])\n",
    "def signin():\n",
    "    # 需要从request对象读取表单内容：\n",
    "    if request.form['username']=='admin' and request.form['password']=='password':\n",
    "        return '<h3>Hello, admin!</h3>'\n",
    "    return '<h3>Bad username or password.</h3>'\n",
    "\n",
    "if __name__ == '__main__':\n",
    "    app.run()\n"
   ]
  },
  {
   "cell_type": "code",
   "execution_count": 1,
   "metadata": {
    "collapsed": false
   },
   "outputs": [],
   "source": [
    "from flask import Flask,request,render_template\n",
    "\n",
    "app = Flask(__name__)\n",
    "@app.route('/',methods=['GET','POST'])\n",
    "def home():\n",
    "    return render_template('home.html')\n",
    "@app.route('/signin',methods=['GET'])\n",
    "def signin_form():\n",
    "    return render_template('form.html',page_list = range(8))\n",
    "@app.route('/signin',methods=['POST'])\n",
    "def signin():\n",
    "    username = request.form['username']\n",
    "    password = request.form['password']\n",
    "    if username == 'admin' and password == 'password':\n",
    "        return render_template('signin-ok.html',username=username)\n",
    "    return render_template('form.html',message='Bad username or password',username=username)\n",
    "\n",
    "if __name__ == '__main__':\n",
    "    app.run()"
   ]
  }
 ],
 "metadata": {
  "kernelspec": {
   "display_name": "Python 3",
   "language": "python",
   "name": "python3"
  },
  "language_info": {
   "codemirror_mode": {
    "name": "ipython",
    "version": 3
   },
   "file_extension": ".py",
   "mimetype": "text/x-python",
   "name": "python",
   "nbconvert_exporter": "python",
   "pygments_lexer": "ipython3",
   "version": "3.5.1"
  }
 },
 "nbformat": 4,
 "nbformat_minor": 0
}
