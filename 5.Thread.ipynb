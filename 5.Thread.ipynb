{
 "cells": [
  {
   "cell_type": "code",
   "execution_count": null,
   "metadata": {
    "collapsed": true
   },
   "outputs": [],
   "source": [
    "'''\n",
    "进程和线程\n",
    "多进程\n",
    "'''"
   ]
  },
  {
   "cell_type": "code",
   "execution_count": null,
   "metadata": {
    "collapsed": true
   },
   "outputs": [],
   "source": [
    "'''\n",
    "fork()调用一次，返回两次，因为操作系统自动把当前进程（称为父进程）复制了一份（称为子进程），\n",
    "然后，分别在父进程和子进程内返回。\n",
    "子进程永远返回0，而父进程返回子进程的ID。\n",
    "这样做的理由是，一个父进程可以fork出很多子进程，所以，父进程要记下每个子进程的ID，而子进程只需要调用getppid()就可以拿到父进程的ID。\n",
    "'''\n",
    "import os\n",
    "\n",
    "print(os.getpid())\n",
    "pid = os.fork()\n",
    "print(\"Current pid is %d\" % pid)\n",
    "if pid == 0:\n",
    "    print(\"This is the child process %d And my parent process is %d\" % (os.getpid(),os.getppid()))\n",
    "else:\n",
    "    print(\"My pid is %d and just created a child process %d \" % (os.getpid(),pid))"
   ]
  },
  {
   "cell_type": "code",
   "execution_count": null,
   "metadata": {
    "collapsed": true
   },
   "outputs": [],
   "source": [
    "#多进程\n",
    "from multiprocessing import Process\n",
    "def run_proc(name):\n",
    "    print(\"Runing child process %s (%s)\" % (name,os.getpid()))\n",
    "\n",
    "if __name__ == '__main__':\n",
    "    print(\"Parent process %s.\" % os.getpid())\n",
    "    p = Process(target=run_proc,args=(\"test\",))\n",
    "    print(\"Child process will run\")\n",
    "    p.start()\n",
    "    p.join()\n",
    "    print(\"Child process end\")"
   ]
  },
  {
   "cell_type": "code",
   "execution_count": null,
   "metadata": {
    "collapsed": true
   },
   "outputs": [],
   "source": [
    "#进程池\n",
    "'''\n",
    "对Pool对象调用join()方法会等待所有子进程执行完毕，调用join()之前必须先调用close()，调用close()之后就不能继续添加新的Process了。\n",
    "'''\n",
    "from multiprocessing import Pool\n",
    "import os,time,random\n",
    "def long_time_task(name):\n",
    "    print(\"Run task %s(%s)\" % (name,os.getpid()))\n",
    "    start = time.time()\n",
    "    time.sleep(random.random() * 3)\n",
    "    end = time.time()\n",
    "    print(\"Task %s run %.2f seconds\\n\" % (name,end-start))\n",
    "    \n",
    "if __name__ == '__main__':\n",
    "    print(\"The Parent pid is %s\" % os.getpid())\n",
    "    p = Pool()\n",
    "    for i in range(4):\n",
    "        p.apply_async(long_time_task,args=(i,))\n",
    "    print(\"Waitting for all subprocess done\")\n",
    "    p.close()\n",
    "    p.join()\n",
    "    print(\"All subprocess done\\n\")"
   ]
  },
  {
   "cell_type": "code",
   "execution_count": 14,
   "metadata": {
    "collapsed": false
   },
   "outputs": [
    {
     "name": "stdout",
     "output_type": "stream",
     "text": [
      "$ nslookup www.python.org\n",
      "Exit code: 0\n"
     ]
    }
   ],
   "source": [
    "#子进程\n",
    "import subprocess\n",
    "print('$ nslookup www.python.org')\n",
    "r = subprocess.call(['nslookup', 'www.python.org'])\n",
    "print('Exit code:', r)"
   ]
  },
  {
   "cell_type": "code",
   "execution_count": 13,
   "metadata": {
    "collapsed": false
   },
   "outputs": [
    {
     "name": "stdout",
     "output_type": "stream",
     "text": [
      "$ nslookup\n",
      "默认服务器:  UnKnown\n",
      "Address:  2001:da8:20a:e::35\n",
      "\n",
      "> > 服务器:  UnKnown\n",
      "Address:  2001:da8:20a:e::35\n",
      "\n",
      "python.org\tMX preference = 50, mail exchanger = mail.python.org\n",
      "\n",
      "python.org\tnameserver = ns1.p11.dynect.net\n",
      "python.org\tnameserver = ns4.p11.dynect.net\n",
      "python.org\tnameserver = ns3.p11.dynect.net\n",
      "python.org\tnameserver = ns2.p11.dynect.net\n",
      "ns1.p11.dynect.net\tinternet address = 208.78.70.11\n",
      "ns3.p11.dynect.net\tinternet address = 208.78.71.11\n",
      "ns4.p11.dynect.net\tinternet address = 204.13.251.11\n",
      "ns2.p11.dynect.net\tinternet address = 204.13.250.11\n",
      "> \n",
      "Exit code: 0\n"
     ]
    }
   ],
   "source": [
    "import subprocess\n",
    "\n",
    "print('$ nslookup')\n",
    "p = subprocess.Popen(['nslookup'], stdin=subprocess.PIPE, stdout=subprocess.PIPE, stderr=subprocess.PIPE)\n",
    "output, err = p.communicate(b'set q=mx\\npython.org\\nexit\\n')\n",
    "print(output.decode('gbk'))\n",
    "print('Exit code:', p.returncode)"
   ]
  },
  {
   "cell_type": "code",
   "execution_count": 24,
   "metadata": {
    "collapsed": false
   },
   "outputs": [
    {
     "name": "stdout",
     "output_type": "stream",
     "text": [
      "OVER\n"
     ]
    }
   ],
   "source": [
    "from multiprocessing import Process,Queue\n",
    "import os,time,random\n",
    "def write(q):\n",
    "    print('Process to write:%s' % os.getpid())\n",
    "    for value in ['A','B','C']:\n",
    "        print(\"put %s to queue...\" % value)\n",
    "        q.put(value)\n",
    "        time.sleep(random.random())\n",
    "def read(q):\n",
    "    print(\"Process to read:%s\"%os.getpid())\n",
    "    while True:\n",
    "        value = q.get(True)\n",
    "        print(\"get %s from queue...\" % value)\n",
    "if __name__ == '__main__':\n",
    "    q = Queue()\n",
    "    pw = Process(target=write,args=(q,))\n",
    "    pr = Process(target=read,args=(q,))\n",
    "    \n",
    "    pw.start()\n",
    "    pr.start()\n",
    "    \n",
    "    pw.join()\n",
    "    pr.terminate()\n",
    "    print(\"OVER\")"
   ]
  },
  {
   "cell_type": "code",
   "execution_count": 1,
   "metadata": {
    "collapsed": false
   },
   "outputs": [
    {
     "name": "stdout",
     "output_type": "stream",
     "text": [
      "Thread MainThread is running..\n",
      "Thread LoopThread1 id running..\n",
      "Thread LoopThread1 >>> 1\n",
      "Thread LoopThread1 >>> 2\n",
      "Thread LoopThread1 >>> 3\n",
      "Thread LoopThread1 >>> 4\n",
      "Thread LoopThread1 >>> 5\n",
      "Thread LoopThread1 ended\n",
      "Thread LoopThread2 id running..\n",
      "Thread LoopThread2 >>> 1\n",
      "Thread LoopThread2 >>> 2\n",
      "Thread LoopThread2 >>> 3\n",
      "Thread LoopThread2 >>> 4\n",
      "Thread LoopThread2 >>> 5\n",
      "Thread LoopThread2 ended\n",
      "Thread LoopThread3 id running..\n",
      "Thread LoopThread3 >>> 1\n",
      "Thread LoopThread3 >>> 2\n",
      "Thread LoopThread3 >>> 3\n",
      "Thread LoopThread3 >>> 4\n",
      "Thread LoopThread3 >>> 5\n",
      "Thread LoopThread3 ended\n",
      "Thread LoopThread4 id running..\n",
      "Thread LoopThread4 >>> 1\n",
      "Thread LoopThread4 >>> 2\n",
      "Thread LoopThread4 >>> 3\n",
      "Thread LoopThread4 >>> 4\n",
      "Thread LoopThread4 >>> 5\n",
      "Thread LoopThread4 ended\n",
      "Thread MainThread ended\n"
     ]
    }
   ],
   "source": [
    "#多线程\n",
    "import time,threading\n",
    "\n",
    "def loop():\n",
    "    print(\"Thread %s id running..\" % threading.current_thread().name)\n",
    "    n = 0\n",
    "    while n < 5:\n",
    "        n = n + 1\n",
    "        print(\"Thread %s >>> %s\" % (threading.current_thread().name,n))\n",
    "#         time.sleep(1)\n",
    "    print(\"Thread %s ended\" % threading.current_thread().name)\n",
    "\n",
    "print(\"Thread %s is running..\" % threading.current_thread().name)\n",
    "for x in range(1,5):\n",
    "    t = threading.Thread(target=loop,name='LoopThread'+str(x))\n",
    "    t.start()\n",
    "print(\"Thread %s ended\" % threading.current_thread().name)"
   ]
  },
  {
   "cell_type": "code",
   "execution_count": 39,
   "metadata": {
    "collapsed": false
   },
   "outputs": [
    {
     "name": "stdout",
     "output_type": "stream",
     "text": [
      "0\n"
     ]
    }
   ],
   "source": [
    "import time,threading\n",
    "balance = 0\n",
    "lock = threading.Lock()  ##通过加锁来限制多线程同时访问\n",
    "def change_it(n):\n",
    "    global balance \n",
    "    balance = balance + n\n",
    "    balance = balance - n\n",
    "def run_thread(n):\n",
    "    for i in range (10000000):\n",
    "        lock.acquire()\n",
    "        try:\n",
    "            change_it(n)\n",
    "        finally:\n",
    "            lock.release()\n",
    "if __name__ == '__main__':\n",
    "    t1 = threading.Thread(target=run_thread,args=(5,))\n",
    "    t2 = threading.Thread(target=run_thread,args=(8,))\n",
    "    t1.start()\n",
    "    t2.start()\n",
    "    t1.join()\n",
    "    t2.join()\n",
    "    print(balance)#balance会因为多线程操作一个变量而导致数据混乱  balance = balanace + n => {x = balance + n;balance = x}\n",
    "        \n"
   ]
  },
  {
   "cell_type": "code",
   "execution_count": null,
   "metadata": {
    "collapsed": false
   },
   "outputs": [],
   "source": [
    "#多核CPU\n",
    "import threading,multiprocessing\n",
    "def loop():\n",
    "    x = 0\n",
    "    while True:\n",
    "        x = x ^ 1\n",
    "for i in range(multiprocessing.cpu_count()):\n",
    "    t = threading.Thread(target=loop)\n",
    "    t.start()"
   ]
  },
  {
   "cell_type": "code",
   "execution_count": 6,
   "metadata": {
    "collapsed": false
   },
   "outputs": [
    {
     "name": "stdout",
     "output_type": "stream",
     "text": [
      "Hello,Niko(in Thread-A)\n",
      "Hello,Belic(in Thread-B)\n"
     ]
    }
   ],
   "source": [
    "#ThreadLocal\n",
    "#让线程能独立访问自己的对象，既不需要共享一个全局变量，也不需要建立一个全局dict来绑定线程和对象，调用时候还超麻烦，超丑\n",
    "import threading\n",
    "local_school = threading.local()\n",
    "\n",
    "def process_student():\n",
    "    std = local_school.student\n",
    "    print(\"Hello,%s(in %s)\" % (std,threading.current_thread().name))\n",
    "\n",
    "def process_thread(name):\n",
    "    local_school.student = name\n",
    "    process_student()\n",
    "\n",
    "t1 = threading.Thread(target=process_thread,args=(\"Niko\",),name=\"Thread-A\")\n",
    "t2 = threading.Thread(target=process_thread,args=(\"Belic\",),name=\"Thread-B\")\n",
    "t1.start()\n",
    "t2.start()\n",
    "t1.join()\n",
    "t2.join()"
   ]
  },
  {
   "cell_type": "code",
   "execution_count": null,
   "metadata": {
    "collapsed": false
   },
   "outputs": [],
   "source": [
    "#!/usr/bin/env python3\n",
    "# -*- coding: utf-8 -*-\n",
    "\n",
    "import random, time, queue\n",
    "from multiprocessing import freeze_support\n",
    "from multiprocessing.managers import BaseManager\n",
    "\n",
    "# 发送任务的队列:\n",
    "task_queue = queue.Queue()\n",
    "# 接收结果的队列:\n",
    "result_queue = queue.Queue()\n",
    "\n",
    "# 从BaseManager继承的QueueManager:\n",
    "class QueueManager(BaseManager):\n",
    "    pass\n",
    "\n",
    "def return_task_queue():\n",
    "    global task_queue\n",
    "    return task_queue\n",
    "\n",
    "def return_result_queue():\n",
    "    global result_queue\n",
    "    return result_queue\n",
    "\n",
    "def test():\n",
    "    # 把两个Queue都注册到网络上, callable参数关联了Queue对象:\n",
    "    # QueueManager.register('get_task_queue', callable=lambda: task_queue)\n",
    "    # QueueManager.register('get_result_queue', callable=lambda: result_queue)\n",
    "    QueueManager.register('get_task_queue', callable=return_task_queue)\n",
    "    QueueManager.register('get_result_queue', callable=return_result_queue)\n",
    "\n",
    "    # 绑定端口5000, 设置验证码'abc':\n",
    "    manager = QueueManager(address=('127.0.0.1', 5000), authkey=b'abc')\n",
    "    # 启动Queue:\n",
    "    manager.start()\n",
    "    # 获得通过网络访问的Queue对象:\n",
    "    task = manager.get_task_queue()\n",
    "    result = manager.get_result_queue()\n",
    "    # 放几个任务进去:\n",
    "    for i in range(10):\n",
    "        n = random.randint(0, 10000)\n",
    "        print('Put task %d...' % n)\n",
    "        task.put(n)\n",
    "    # 从result队列读取结果:\n",
    "    print('Try get results...')\n",
    "    for i in range(10):\n",
    "        r = result.get(timeout=10)\n",
    "        print('Result: %s' % r)\n",
    "    # 关闭:\n",
    "    manager.shutdown()\n",
    "    print('master exit.')\n",
    "\n",
    "if __name__ == '__main__':\n",
    "    freeze_support()\n",
    "    test()"
   ]
  },
  {
   "cell_type": "code",
   "execution_count": null,
   "metadata": {
    "collapsed": true
   },
   "outputs": [],
   "source": [
    "# task_worker.py\n",
    "\n",
    "import time, sys, queue\n",
    "from multiprocessing.managers import BaseManager\n",
    "\n",
    "# 创建类似的QueueManager:\n",
    "class QueueManager(BaseManager):\n",
    "    pass\n",
    "\n",
    "# 由于这个QueueManager只从网络上获取Queue，所以注册时只提供名字:\n",
    "QueueManager.register('get_task_queue')\n",
    "QueueManager.register('get_result_queue')\n",
    "\n",
    "# 连接到服务器，也就是运行task_master.py的机器:\n",
    "server_addr = '10.5.110.217'\n",
    "print('Connect to server %s...' % server_addr)\n",
    "# 端口和验证码注意保持与task_master.py设置的完全一致:\n",
    "m = QueueManager(address=(server_addr, 5000), authkey=b'abc')\n",
    "# 从网络连接:\n",
    "m.connect()\n",
    "# 获取Queue的对象:\n",
    "task = m.get_task_queue()\n",
    "result = m.get_result_queue()\n",
    "# 从task队列取任务,并把结果写入result队列:\n",
    "for i in range(10):\n",
    "    try:\n",
    "        n = task.get(timeout=1)\n",
    "        print('run task %d * %d...' % (n, n))\n",
    "        r = '%d * %d = %d' % (n, n, n*n)\n",
    "        time.sleep(1)\n",
    "        result.put(r)\n",
    "    except Queue.Empty:\n",
    "        print('task queue is empty.')\n",
    "# 处理结束:\n",
    "print('worker exit.')"
   ]
  }
 ],
 "metadata": {
  "kernelspec": {
   "display_name": "Python 3",
   "language": "python",
   "name": "python3"
  },
  "language_info": {
   "codemirror_mode": {
    "name": "ipython",
    "version": 3
   },
   "file_extension": ".py",
   "mimetype": "text/x-python",
   "name": "python",
   "nbconvert_exporter": "python",
   "pygments_lexer": "ipython3",
   "version": "3.5.1"
  }
 },
 "nbformat": 4,
 "nbformat_minor": 0
}
