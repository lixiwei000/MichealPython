{
 "cells": [
  {
   "cell_type": "code",
   "execution_count": 63,
   "metadata": {
    "collapsed": false,
    "scrolled": false
   },
   "outputs": [
    {
     "ename": "TypeError",
     "evalue": "run() takes 0 positional arguments but 1 was given",
     "output_type": "error",
     "traceback": [
      "\u001b[1;31m---------------------------------------------------------------------------\u001b[0m",
      "\u001b[1;31mTypeError\u001b[0m                                 Traceback (most recent call last)",
      "\u001b[1;32m<ipython-input-63-565722f955ca>\u001b[0m in \u001b[0;36m<module>\u001b[1;34m()\u001b[0m\n\u001b[0;32m     27\u001b[0m \u001b[0ma\u001b[0m \u001b[1;33m=\u001b[0m \u001b[0mAnimal\u001b[0m\u001b[1;33m(\u001b[0m\u001b[1;33m)\u001b[0m\u001b[1;33m\u001b[0m\u001b[0m\n\u001b[0;32m     28\u001b[0m \u001b[0md\u001b[0m \u001b[1;33m=\u001b[0m \u001b[0mDog\u001b[0m\u001b[1;33m(\u001b[0m\u001b[1;33m)\u001b[0m\u001b[1;33m\u001b[0m\u001b[0m\n\u001b[1;32m---> 29\u001b[1;33m \u001b[0mtest_run\u001b[0m\u001b[1;33m(\u001b[0m\u001b[0ma\u001b[0m\u001b[1;33m)\u001b[0m\u001b[1;33m\u001b[0m\u001b[0m\n\u001b[0m",
      "\u001b[1;32m<ipython-input-63-565722f955ca>\u001b[0m in \u001b[0;36mtest_run\u001b[1;34m(animal)\u001b[0m\n\u001b[0;32m     23\u001b[0m         \u001b[0mprint\u001b[0m\u001b[1;33m(\u001b[0m\u001b[1;34m\"Dog is running\"\u001b[0m\u001b[1;33m)\u001b[0m\u001b[1;33m\u001b[0m\u001b[0m\n\u001b[0;32m     24\u001b[0m \u001b[1;32mdef\u001b[0m \u001b[0mtest_run\u001b[0m\u001b[1;33m(\u001b[0m\u001b[0manimal\u001b[0m\u001b[1;33m)\u001b[0m\u001b[1;33m:\u001b[0m\u001b[1;33m\u001b[0m\u001b[0m\n\u001b[1;32m---> 25\u001b[1;33m     \u001b[0manimal\u001b[0m\u001b[1;33m.\u001b[0m\u001b[0mrun\u001b[0m\u001b[1;33m(\u001b[0m\u001b[1;33m)\u001b[0m\u001b[1;33m\u001b[0m\u001b[0m\n\u001b[0m\u001b[0;32m     26\u001b[0m \u001b[1;33m\u001b[0m\u001b[0m\n\u001b[0;32m     27\u001b[0m \u001b[0ma\u001b[0m \u001b[1;33m=\u001b[0m \u001b[0mAnimal\u001b[0m\u001b[1;33m(\u001b[0m\u001b[1;33m)\u001b[0m\u001b[1;33m\u001b[0m\u001b[0m\n",
      "\u001b[1;31mTypeError\u001b[0m: run() takes 0 positional arguments but 1 was given"
     ]
    }
   ],
   "source": [
    "class Student(object):\n",
    "    def __init__(self,name,score):\n",
    "        self.__name = name\n",
    "        self.__score = score\n",
    "    def print_score(self):\n",
    "        print(\"%s : %s\" % (self.__name,self.__score))\n",
    "    def print_name(self):\n",
    "        return self.__name\n",
    "    \n",
    "    \n",
    "    \n",
    "niko = Student('Niko',100)\n",
    "tom = Student('Tom',76)\n",
    "\n",
    "dir(niko)\n",
    "\n",
    "#多态\n",
    "class Animal():\n",
    "    def run(self):\n",
    "        print(\"Animal is running\")\n",
    "class Dog(Animal):\n",
    "    def run(self):\n",
    "        print(\"Dog is running\")\n",
    "def test_run(animal):\n",
    "    animal.run()\n",
    "\n",
    "a = Animal()\n",
    "d = Dog()\n",
    "test_run(a)"
   ]
  },
  {
   "cell_type": "raw",
   "metadata": {
    "collapsed": false
   },
   "source": [
    "'a test model'\n",
    "__author__ = 'NikoBelic'\n",
    "import sys\n",
    "\n",
    "def test():\n",
    "    args = sys.argv\n",
    "    if len(args) == 1:\n",
    "        print(\"Hello World\")\n",
    "    elif len(args) == 2:\n",
    "        print(\"Hello %s\" % args[1])\n",
    "    else:\n",
    "        print(\"Too many args!!\")\n",
    "if __name__ == '__main__':\n",
    "    test()"
   ]
  },
  {
   "cell_type": "code",
   "execution_count": 14,
   "metadata": {
    "collapsed": false
   },
   "outputs": [
    {
     "name": "stdout",
     "output_type": "stream",
     "text": [
      "JPEG (1024, 768) RGB\n"
     ]
    }
   ],
   "source": [
    "from PIL import Image\n",
    "img = Image.open(\"G:/迅雷下载/14882888_203714022000_2.jpg\")\n",
    "print(img.format,img.size,img.mode)\n",
    "img.thumbnail((200,100))\n",
    "img.save(\"G:/迅雷下载/thumb.jpg\",'JPEG')"
   ]
  },
  {
   "cell_type": "code",
   "execution_count": 15,
   "metadata": {
    "collapsed": false,
    "scrolled": true
   },
   "outputs": [
    {
     "data": {
      "text/plain": [
       "['',\n",
       " 'D:\\\\Anaconda\\\\python35.zip',\n",
       " 'D:\\\\Anaconda\\\\DLLs',\n",
       " 'D:\\\\Anaconda\\\\lib',\n",
       " 'D:\\\\Anaconda',\n",
       " 'd:\\\\anaconda\\\\lib\\\\site-packages\\\\setuptools-18.5-py3.5.egg',\n",
       " 'D:\\\\Anaconda\\\\lib\\\\site-packages',\n",
       " 'D:\\\\Anaconda\\\\lib\\\\site-packages\\\\Sphinx-1.3.1-py3.5.egg',\n",
       " 'D:\\\\Anaconda\\\\lib\\\\site-packages\\\\cryptography-1.0.2-py3.5-win-amd64.egg',\n",
       " 'D:\\\\Anaconda\\\\lib\\\\site-packages\\\\win32',\n",
       " 'D:\\\\Anaconda\\\\lib\\\\site-packages\\\\win32\\\\lib',\n",
       " 'D:\\\\Anaconda\\\\lib\\\\site-packages\\\\Pythonwin',\n",
       " 'D:\\\\Anaconda\\\\lib\\\\site-packages\\\\IPython\\\\extensions',\n",
       " 'C:\\\\Users\\\\lxw\\\\.ipython']"
      ]
     },
     "execution_count": 15,
     "metadata": {},
     "output_type": "execute_result"
    }
   ],
   "source": [
    "##__slots__\n",
    "from types import MethodType\n",
    "class Student():\n",
    "    __slots__ = ('age','name','setAge')#限制了Student类只能有这三个属性或方法\n",
    "    def __init__(self,name):\n",
    "        self.name = name\n",
    "def set_age(self,age):\n",
    "    self.age = age\n",
    "s = Student('Niko')\n",
    "s.setAge = MethodType(set_age,s)\n",
    "s.setAge(20)\n",
    "s.age\n",
    "s.score = 100\n"
   ]
  },
  {
   "cell_type": "code",
   "execution_count": null,
   "metadata": {
    "collapsed": true
   },
   "outputs": [],
   "source": [
    "##buildin函数调用的其实是类的__len__方法\n",
    "\n",
    "class Animal():\n",
    "    hair = \"Black\"\n",
    "    def __init__(self,name):\n",
    "        self.__name__ = name\n",
    "    def __len__(self):\n",
    "        return 99\n",
    "a = Animal(\"Dog\")\n",
    "len(a)\n",
    "dir(a)\n",
    "hasattr(a,'name')\n",
    "getattr(a,'name','Shit')\n",
    "\n",
    "Animal.hair = \"Brown\"\n",
    "Animal.hair\n",
    "a.hair = \"Blue\"\n",
    "del a.hair\n",
    "a.hair\n"
   ]
  },
  {
   "cell_type": "code",
   "execution_count": 30,
   "metadata": {
    "collapsed": false
   },
   "outputs": [
    {
     "name": "stdout",
     "output_type": "stream",
     "text": [
      "Student NikoBelic is 23 years old!\n"
     ]
    }
   ],
   "source": [
    "#@Property,__str__,__repr__\n",
    "class Student(object):\n",
    "    def __init__(self,name):\n",
    "        self._name = name\n",
    "    @property\n",
    "    def score(self):\n",
    "        return self._score\n",
    "\n",
    "    @score.setter\n",
    "    def score(self, value):\n",
    "        if not isinstance(value, (int,float)):\n",
    "            raise ValueError('score must be an integer!')\n",
    "        if value < 0 or value > 100:\n",
    "            raise ValueError('score must between 0 ~ 100!')\n",
    "        self._score = value\n",
    "    @property\n",
    "    def birth(self):\n",
    "        return self._birth\n",
    "    @birth.setter\n",
    "    def birth(self,value):\n",
    "        self._birth = value\n",
    "    @property\n",
    "    def age(self):\n",
    "        return 2016 - self._birth\n",
    "    def __str__(self):\n",
    "        return \"Student %s is %d years old!\" % (self._name,self.age)\n",
    "    __repr__ = __str__\n",
    "s = Student(\"NikoBelic\")\n",
    "s.birth = 1993\n",
    "s.age\n",
    "\n",
    "\n",
    "#@property 练习\n",
    "class Screen(object):\n",
    "    @property\n",
    "    def width(self):\n",
    "        return self._width\n",
    "    @width.setter\n",
    "    def width(self,value):\n",
    "        self._width = value\n",
    "    @property\n",
    "    def height(self):\n",
    "        return self._height\n",
    "    @height.setter\n",
    "    def height(self,value):\n",
    "        self._height = value\n",
    "    @property\n",
    "    def resolution(self):\n",
    "        return self._width * self._height\n",
    "\n",
    "c = Screen()\n",
    "c.width = 10\n",
    "c.height = 20\n",
    "c.resolution\n",
    "print(s)"
   ]
  },
  {
   "cell_type": "code",
   "execution_count": 14,
   "metadata": {
    "collapsed": false
   },
   "outputs": [
    {
     "data": {
      "text/plain": [
       "1"
      ]
     },
     "execution_count": 14,
     "metadata": {},
     "output_type": "execute_result"
    }
   ],
   "source": [
    "#  __iter__   __next__\n",
    "class Fib(object):\n",
    "    def __init__(self):\n",
    "        self._a = 0\n",
    "        self._b = 1\n",
    "    def __iter__(self):\n",
    "        return self\n",
    "    def __next__(self):\n",
    "        self._a,self._b = self._b , self._a + self._b\n",
    "        return self._a\n",
    "    def __getitem__(self,n):\n",
    "        a,b = 1,1\n",
    "        for x in range(n):\n",
    "            a,b =b ,a+b\n",
    "        return a\n",
    "f = Fib()\n",
    "for x in f:\n",
    "    if(x > 100):\n",
    "        break\n",
    "#     print(x)\n",
    "f[1]"
   ]
  },
  {
   "cell_type": "code",
   "execution_count": null,
   "metadata": {
    "collapsed": true
   },
   "outputs": [],
   "source": [
    "#__getattr__配合Chain链式调用实现Rest风格的API\n",
    "#__call__实现调用对象，实现和调用函数一样的效果\n",
    "class Chain(object):\n",
    "    def __init__(self,path=''):\n",
    "        self._path = path\n",
    "    def __getattr__(self,path):\n",
    "        return Chain(\"%s/%s\" % (self._path,path))\n",
    "    def __call__(self,path):\n",
    "        return Chain(\"%s/%s\" % (self._path,path))\n",
    "    def __str__(self):\n",
    "        return self._path\n",
    "    __repr__ = __str__\n",
    "Chain().status.user(\"NikoBelic\").timeline.list"
   ]
  },
  {
   "cell_type": "code",
   "execution_count": 28,
   "metadata": {
    "collapsed": false,
    "scrolled": true
   },
   "outputs": [
    {
     "name": "stdout",
     "output_type": "stream",
     "text": [
      "Jan => Month.Jan , 1\n",
      "Feb => Month.Feb , 2\n",
      "Mar => Month.Mar , 3\n",
      "Apr => Month.Apr , 4\n",
      "May => Month.May , 5\n",
      "Jun => Month.Jun , 6\n",
      "Jul => Month.Jul , 7\n",
      "Aug => Month.Aug , 8\n",
      "Sep => Month.Sep , 9\n",
      "Oct => Month.Oct , 10\n",
      "Nov => Month.Nov , 11\n",
      "Dec => Month.Dec , 12\n",
      "Sun WeekDay.Sun 0\n",
      "Mon WeekDay.Mon 1\n",
      "Tue WeekDay.Tue 2\n",
      "Wed WeekDay.Wed 3\n",
      "Thu WeekDay.Thu 4\n",
      "Fri WeekDay.Fri 5\n",
      "Sat WeekDay.Sat 6\n"
     ]
    }
   ],
   "source": [
    "#Enum枚举类\n",
    "from enum import Enum,unique\n",
    "\n",
    "Month = Enum('Month', ('Jan', 'Feb', 'Mar', 'Apr', 'May', 'Jun', 'Jul', 'Aug', 'Sep', 'Oct', 'Nov', 'Dec'))\n",
    "for name,member in Month.__members__.items():\n",
    "    print(name,'=>',member,',',member.value)\n",
    "#自定义枚举类\n",
    "@unique\n",
    "class WeekDay(Enum):\n",
    "    Sun = 0\n",
    "    Mon = 1\n",
    "    Tue = 2\n",
    "    Wed = 3\n",
    "    Thu = 4\n",
    "    Fri = 5\n",
    "    Sat = 6\n",
    "for name,member in WeekDay.__members__.items():\n",
    "    print(name,member,member.value)"
   ]
  },
  {
   "cell_type": "code",
   "execution_count": 88,
   "metadata": {
    "collapsed": false
   },
   "outputs": [
    {
     "name": "stdout",
     "output_type": "stream",
     "text": [
      "Hello, Tmo\n"
     ]
    }
   ],
   "source": [
    "#使用type来创建类\n",
    "def fn(self,name='lixiwei'):\n",
    "    print(\"Hello,\",name)\n",
    "Hello = type('Hello',(object,),dict(hello=fn))\n",
    "h = Hello()\n",
    "h.hello('Tmo')\n",
    "\n",
    "\n",
    "#使用MetaClass元类创建类\n",
    "# metaclass是类的模板，所以必须从`type`类型派生：\n",
    "class ListMetaclass(type):\n",
    "    def __new__(cls, name, bases, attrs):\n",
    "        attrs['add'] = lambda self, value: self.append(value)\n",
    "        return type.__new__(cls, name, bases, attrs)\n",
    "class MyList(list,metaclass=ListMetaclass):\n",
    "    pass\n",
    "l = MyList()\n",
    "l.add(22)\n"
   ]
  },
  {
   "cell_type": "code",
   "execution_count": 4,
   "metadata": {
    "collapsed": false
   },
   "outputs": [
    {
     "name": "stdout",
     "output_type": "stream",
     "text": [
      "Found Model:User\n",
      "Found mapping:password ==> <StringField:password>\n",
      "Found mapping:id ==> <IntegerField:id>\n",
      "Found mapping:name ==> <StringField:username>\n",
      "Found mapping:email ==> <StringField:email>\n",
      "SQL:insert into User (password,id,email,username) values(?,?,?,?)\n",
      "ARGS:['my-pwd', 12345, 'test@orm.org', 'Michael']\n"
     ]
    },
    {
     "data": {
      "text/plain": [
       "'\\n当用户定义一个class User(Model)时，Python解释器首先在当前类User的定义中查找metaclass，如果没有找到，就继续在父类Model中查找metaclass，找到了，就使用Model中定义的metaclass的ModelMetaclass来创建User类，也就是说，metaclass可以隐式地继承到子类，但子类自己却感觉不到。\\n在ModelMetaclass中，一共做了几件事情：\\n排除掉对Model类的修改；\\n在当前类（比如User）中查找定义的类的所有属性，如果找到一个Field属性，就把它保存到一个__mappings__的dict中，同时从类属性中删除该Field属性，否则，容易造成运行时错误（实例的属性会遮盖类的同名属性）；\\n把表名保存到__table__中，这里简化为表名默认为类名。\\n在Model类中，就可以定义各种操作数据库的方法，比如save()，delete()，find()，update等等。\\n我们实现了save()方法，把一个实例保存到数据库中。因为有表名，属性到字段的映射和属性值的集合，就可以构造出INSERT语句。\\n'"
      ]
     },
     "execution_count": 4,
     "metadata": {},
     "output_type": "execute_result"
    }
   ],
   "source": [
    "##ORM元类\n",
    "class Field(object):\n",
    "    def __init__(self,name,column_type):\n",
    "        self.name = name\n",
    "        self.column_type = column_type\n",
    "    def __str__(self):\n",
    "        return '<%s:%s>' % (self.__class__.__name__,self.name)\n",
    "class StringField(Field):\n",
    "    def __init__(self,name):\n",
    "        super(StringField,self).__init__(name,'varchar(100)')\n",
    "        \n",
    "class IntegerField(Field):\n",
    "    def __init__(self,name):\n",
    "        super(IntegerField,self).__init__(name,'bigint')\n",
    "class ModelMetaclass(type):\n",
    "    def __new__(cls,name,bases,attrs):\n",
    "        if name == \"Model\":\n",
    "            return type.__new__(cls,name,bases,attrs)\n",
    "        print(\"Found Model:%s\" % name)\n",
    "        mappings = dict()\n",
    "        for k,v in attrs.items():\n",
    "            if isinstance(v,Field):\n",
    "                print(\"Found mapping:%s ==> %s\" % (k,v))\n",
    "                mappings[k] = v\n",
    "        for k in mappings.keys():\n",
    "            attrs.pop(k)\n",
    "        attrs['__mappings__'] = mappings#保存属性和列的映射关系\n",
    "        attrs['__table__'] = name#假设表名和类名一致\n",
    "        return type.__new__(cls,name,bases,attrs)\n",
    "class Model(dict,metaclass=ModelMetaclass):\n",
    "    def __init__(self,**kw):\n",
    "        super(Model,self).__init__(**kw)\n",
    "    def __getattr__(self,key):\n",
    "        try:\n",
    "            return self[key]\n",
    "        except KeyError:\n",
    "            raise AttributeError(r\"'Model'object has no attribute 'a%s'\" % key)\n",
    "    def __setattr__(self,key):\n",
    "        self[key] = value\n",
    "    def save(self):\n",
    "        fields = []\n",
    "        params = []\n",
    "        args = []\n",
    "        for k,v in self.__mappings__.items():\n",
    "            fields.append(v.name)\n",
    "            params.append('?')\n",
    "            args.append(getattr(self,k,None))\n",
    "        sql = \"insert into %s (%s) values(%s)\" % (self.__table__,','.join(fields),','.join(params))\n",
    "        print(\"SQL:%s\" % sql)\n",
    "        print(\"ARGS:%s\" % str(args))\n",
    "class User(Model):\n",
    "    # 定义类的属性到列的映射：\n",
    "    id = IntegerField('id')\n",
    "    name = StringField('username')\n",
    "    email = StringField('email')\n",
    "    password = StringField('password')\n",
    "\n",
    "# 创建一个实例：\n",
    "u = User(id=12345, name='Michael', email='test@orm.org', password='my-pwd')\n",
    "# 保存到数据库：\n",
    "u.save()\n",
    "'''\n",
    "当用户定义一个class User(Model)时，Python解释器首先在当前类User的定义中查找metaclass，如果没有找到，就继续在父类Model中查找metaclass，找到了，就使用Model中定义的metaclass的ModelMetaclass来创建User类，也就是说，metaclass可以隐式地继承到子类，但子类自己却感觉不到。\n",
    "在ModelMetaclass中，一共做了几件事情：\n",
    "排除掉对Model类的修改；\n",
    "在当前类（比如User）中查找定义的类的所有属性，如果找到一个Field属性，就把它保存到一个__mappings__的dict中，同时从类属性中删除该Field属性，否则，容易造成运行时错误（实例的属性会遮盖类的同名属性）；\n",
    "把表名保存到__table__中，这里简化为表名默认为类名。\n",
    "在Model类中，就可以定义各种操作数据库的方法，比如save()，delete()，find()，update等等。\n",
    "我们实现了save()方法，把一个实例保存到数据库中。因为有表名，属性到字段的映射和属性值的集合，就可以构造出INSERT语句。\n",
    "'''"
   ]
  }
 ],
 "metadata": {
  "kernelspec": {
   "display_name": "Python 3",
   "language": "python",
   "name": "python3"
  },
  "language_info": {
   "codemirror_mode": {
    "name": "ipython",
    "version": 3
   },
   "file_extension": ".py",
   "mimetype": "text/x-python",
   "name": "python",
   "nbconvert_exporter": "python",
   "pygments_lexer": "ipython3",
   "version": "3.5.1"
  }
 },
 "nbformat": 4,
 "nbformat_minor": 0
}
