{
 "cells": [
  {
   "cell_type": "code",
   "execution_count": null,
   "metadata": {
    "collapsed": true
   },
   "outputs": [],
   "source": [
    "'''\n",
    "理解 MUA、MTA、MDA、  SMTP、POP3、IMAP\n",
    "MUA：邮件用户代理  比如QQ邮箱客户端\n",
    "MTA：邮件传输代理  比如163.com的邮箱先要发送到sina.com  就必须使用网易的MTA。之后被传送到新浪的MTA\n",
    "MDA：邮件投递代理  邮件目的地的某个存储服务器，邮件在这里存放等待用户接收\n",
    "SMTP：MUA到MTA 还有 MTA到MTA都使用这种传输协议\n",
    "POP3、IMAP4：MUA和MDA之间的协议 用户接收邮件时的协议\n",
    "流程：MailSender --> MUA --> MTA .... --> MTA --> MDA <-- MUA <-- MailReceiver\n",
    "'''\n",
    "#qq jzammddhjspdcbeg"
   ]
  },
  {
   "cell_type": "code",
   "execution_count": 14,
   "metadata": {
    "collapsed": false,
    "scrolled": false
   },
   "outputs": [
    {
     "name": "stderr",
     "output_type": "stream",
     "text": [
      "send: 'ehlo [169.254.93.20]\\r\\n'\n",
      "reply: b'250-mail\\r\\n'\n",
      "reply: b'250-PIPELINING\\r\\n'\n",
      "reply: b'250-AUTH LOGIN PLAIN\\r\\n'\n",
      "reply: b'250-AUTH=LOGIN PLAIN\\r\\n'\n",
      "reply: b'250-coremail 1Uxr2xKj7kG0xkI17xGrU7I0s8FY2U3Uj8Cz28x1UUUUU7Ic2I0Y2UFifKOZUCa0xDrUUUUj\\r\\n'\n",
      "reply: b'250-STARTTLS\\r\\n'\n",
      "reply: b'250 8BITMIME\\r\\n'\n",
      "reply: retcode (250); Msg: b'mail\\nPIPELINING\\nAUTH LOGIN PLAIN\\nAUTH=LOGIN PLAIN\\ncoremail 1Uxr2xKj7kG0xkI17xGrU7I0s8FY2U3Uj8Cz28x1UUUUU7Ic2I0Y2UFifKOZUCa0xDrUUUUj\\nSTARTTLS\\n8BITMIME'\n",
      "send: 'AUTH PLAIN ADEzNTIyNzgxOTcwQDE2My5jb20AbmV2ZXJmb3JnZXQwOTE5IQ==\\r\\n'\n",
      "reply: b'235 Authentication successful\\r\\n'\n",
      "reply: retcode (235); Msg: b'Authentication successful'\n",
      "send: 'mail FROM:<13522781970@163.com>\\r\\n'\n",
      "reply: b'250 Mail OK\\r\\n'\n",
      "reply: retcode (250); Msg: b'Mail OK'\n",
      "send: 'rcpt TO:<13522781970@163.com>\\r\\n'\n",
      "reply: b'250 Mail OK\\r\\n'\n",
      "reply: retcode (250); Msg: b'Mail OK'\n",
      "send: 'data\\r\\n'\n",
      "reply: b'354 End data with <CR><LF>.<CR><LF>\\r\\n'\n",
      "reply: retcode (354); Msg: b'End data with <CR><LF>.<CR><LF>'\n",
      "data: (354, b'End data with <CR><LF>.<CR><LF>')\n",
      "send: b'Content-Type: text/plain; charset=\"utf-8\"\\r\\nMIME-Version: 1.0\\r\\nContent-Transfer-Encoding: base64\\r\\n\\r\\nSGVsbG8sc2VuZCBieSBQeXRob24uLg==\\r\\n.\\r\\n'\n",
      "reply: b'250 Mail OK queued as smtp14,EsCowEDZHUfkaetWZA0qAA--.14694S2 1458268644\\r\\n'\n",
      "reply: retcode (250); Msg: b'Mail OK queued as smtp14,EsCowEDZHUfkaetWZA0qAA--.14694S2 1458268644'\n",
      "data: (250, b'Mail OK queued as smtp14,EsCowEDZHUfkaetWZA0qAA--.14694S2 1458268644')\n",
      "send: 'quit\\r\\n'\n",
      "reply: b'221 Bye\\r\\n'\n",
      "reply: retcode (221); Msg: b'Bye'\n"
     ]
    },
    {
     "data": {
      "text/plain": [
       "(221, b'Bye')"
      ]
     },
     "execution_count": 14,
     "metadata": {},
     "output_type": "execute_result"
    }
   ],
   "source": [
    "from email.mime.text import MIMEText\n",
    "msg = MIMEText(\"Hello,send by Python..\",'plain','utf-8')\n",
    "\n",
    "from_addr = \"13522781970@163.com\"\n",
    "password = \"neverforget0919!\"\n",
    "to_addr = \"13522781970@163.com\"\n",
    "smtp_server = \"smtp.163.com\"\n",
    "\n",
    "import smtplib\n",
    "server = smtplib.SMTP(smtp_server,25)\n",
    "server.set_debuglevel(1)\n",
    "server.login(from_addr,password)\n",
    "server.sendmail(from_addr,[to_addr],msg.as_string())\n",
    "server.quit()"
   ]
  },
  {
   "cell_type": "code",
   "execution_count": 37,
   "metadata": {
    "collapsed": true
   },
   "outputs": [
    {
     "name": "stdout",
     "output_type": "stream",
     "text": [
      "这事第0封邮件\n",
      "这事第1封邮件\n",
      "这事第2封邮件\n",
      "这事第3封邮件\n",
      "这事第4封邮件\n",
      "这事第5封邮件\n",
      "这事第6封邮件\n",
      "这事第7封邮件\n",
      "这事第8封邮件\n",
      "这事第9封邮件\n",
      "这事第10封邮件\n"
     ]
    },
    {
     "ename": "SMTPSenderRefused",
     "evalue": "(451, b'MI:DMC 163 smtp13,EcCowACXuTSbketWJLBsAw--.49907S13 1458278813 http://mail.163.com/help/help_spam_16.htm?ip=106.39.0.58&hostid=smtp13&time=1458278813', '13522781970@163.com')",
     "output_type": "error",
     "traceback": [
      "\u001b[1;31m---------------------------------------------------------------------------\u001b[0m",
      "\u001b[1;31mSMTPSenderRefused\u001b[0m                         Traceback (most recent call last)",
      "\u001b[1;32m<ipython-input-37-9d5390c94300>\u001b[0m in \u001b[0;36m<module>\u001b[1;34m()\u001b[0m\n\u001b[0;32m     24\u001b[0m \u001b[1;32mfor\u001b[0m \u001b[0mx\u001b[0m \u001b[1;32min\u001b[0m \u001b[0mrange\u001b[0m\u001b[1;33m(\u001b[0m\u001b[1;36m100\u001b[0m\u001b[1;33m)\u001b[0m\u001b[1;33m:\u001b[0m\u001b[1;33m\u001b[0m\u001b[0m\n\u001b[0;32m     25\u001b[0m \u001b[1;31m#     time.sleep()\u001b[0m\u001b[1;33m\u001b[0m\u001b[1;33m\u001b[0m\u001b[0m\n\u001b[1;32m---> 26\u001b[1;33m     \u001b[0mserver\u001b[0m\u001b[1;33m.\u001b[0m\u001b[0msendmail\u001b[0m\u001b[1;33m(\u001b[0m\u001b[0mfrom_addr\u001b[0m\u001b[1;33m,\u001b[0m\u001b[1;33m[\u001b[0m\u001b[0mto_addr\u001b[0m\u001b[1;33m]\u001b[0m\u001b[1;33m,\u001b[0m\u001b[0mmsg\u001b[0m\u001b[1;33m.\u001b[0m\u001b[0mas_string\u001b[0m\u001b[1;33m(\u001b[0m\u001b[1;33m)\u001b[0m \u001b[1;33m+\u001b[0m \u001b[0mstr\u001b[0m\u001b[1;33m(\u001b[0m\u001b[0mrandom\u001b[0m\u001b[1;33m.\u001b[0m\u001b[0mrandint\u001b[0m\u001b[1;33m(\u001b[0m\u001b[1;36m0\u001b[0m\u001b[1;33m,\u001b[0m\u001b[1;36m10000000000\u001b[0m\u001b[1;33m)\u001b[0m\u001b[1;33m)\u001b[0m\u001b[1;33m)\u001b[0m\u001b[1;33m\u001b[0m\u001b[0m\n\u001b[0m\u001b[0;32m     27\u001b[0m     \u001b[0mprint\u001b[0m\u001b[1;33m(\u001b[0m\u001b[1;34m\"这事第%d封邮件\"\u001b[0m\u001b[1;33m%\u001b[0m\u001b[0mx\u001b[0m\u001b[1;33m)\u001b[0m\u001b[1;33m\u001b[0m\u001b[0m\n\u001b[0;32m     28\u001b[0m \u001b[0mserver\u001b[0m\u001b[1;33m.\u001b[0m\u001b[0mquit\u001b[0m\u001b[1;33m(\u001b[0m\u001b[1;33m)\u001b[0m\u001b[1;33m\u001b[0m\u001b[0m\n",
      "\u001b[1;32mD:\\Anaconda\\lib\\smtplib.py\u001b[0m in \u001b[0;36msendmail\u001b[1;34m(self, from_addr, to_addrs, msg, mail_options, rcpt_options)\u001b[0m\n\u001b[0;32m    855\u001b[0m             \u001b[1;32melse\u001b[0m\u001b[1;33m:\u001b[0m\u001b[1;33m\u001b[0m\u001b[0m\n\u001b[0;32m    856\u001b[0m                 \u001b[0mself\u001b[0m\u001b[1;33m.\u001b[0m\u001b[0m_rset\u001b[0m\u001b[1;33m(\u001b[0m\u001b[1;33m)\u001b[0m\u001b[1;33m\u001b[0m\u001b[0m\n\u001b[1;32m--> 857\u001b[1;33m             \u001b[1;32mraise\u001b[0m \u001b[0mSMTPSenderRefused\u001b[0m\u001b[1;33m(\u001b[0m\u001b[0mcode\u001b[0m\u001b[1;33m,\u001b[0m \u001b[0mresp\u001b[0m\u001b[1;33m,\u001b[0m \u001b[0mfrom_addr\u001b[0m\u001b[1;33m)\u001b[0m\u001b[1;33m\u001b[0m\u001b[0m\n\u001b[0m\u001b[0;32m    858\u001b[0m         \u001b[0msenderrs\u001b[0m \u001b[1;33m=\u001b[0m \u001b[1;33m{\u001b[0m\u001b[1;33m}\u001b[0m\u001b[1;33m\u001b[0m\u001b[0m\n\u001b[0;32m    859\u001b[0m         \u001b[1;32mif\u001b[0m \u001b[0misinstance\u001b[0m\u001b[1;33m(\u001b[0m\u001b[0mto_addrs\u001b[0m\u001b[1;33m,\u001b[0m \u001b[0mstr\u001b[0m\u001b[1;33m)\u001b[0m\u001b[1;33m:\u001b[0m\u001b[1;33m\u001b[0m\u001b[0m\n",
      "\u001b[1;31mSMTPSenderRefused\u001b[0m: (451, b'MI:DMC 163 smtp13,EcCowACXuTSbketWJLBsAw--.49907S13 1458278813 http://mail.163.com/help/help_spam_16.htm?ip=106.39.0.58&hostid=smtp13&time=1458278813', '13522781970@163.com')"
     ]
    }
   ],
   "source": [
    "####设置主题 发件人 收件人\n",
    "from email import encoders\n",
    "from email.header import Header\n",
    "from email.mime.text import MIMEText\n",
    "from email.utils import parseaddr,formataddr\n",
    "\n",
    "import smtplib,time,random\n",
    "def _format_addr(s):\n",
    "    name,addr = parseaddr(s)\n",
    "    return formataddr((Header(name,'utf-8').encode(),addr))\n",
    "from_addr = \"13522781970@163.com\"\n",
    "password = \"neverforget0919!\"\n",
    "to_addr = \"511958060@qq.com\"\n",
    "smtp_server = \"smtp.163.com\"\n",
    "\n",
    "msg = MIMEText(\"Hello , Send by Python !~~~\",'plain','utf-8')\n",
    "msg['From'] = _format_addr(\"Python爱好者<%s>\" % from_addr)\n",
    "msg['To'] = _format_addr(\"超级无敌管理员<%s>\" % to_addr)\n",
    "msg['Subject'] = Header(\"来自SMTP的问候。。。。。。。。\",'utf-8').encode()\n",
    "\n",
    "server = smtplib.SMTP(smtp_server,25)\n",
    "# server.set_debuglevel(1)\n",
    "server.login(from_addr,password)\n",
    "for x in range(100):\n",
    "#     time.sleep()\n",
    "    server.sendmail(from_addr,[to_addr],msg.as_string() + str(random.randint(0,10000000000)))\n",
    "    print(\"这事第%d封邮件\"%x)\n",
    "server.quit()"
   ]
  },
  {
   "cell_type": "code",
   "execution_count": 4,
   "metadata": {
    "collapsed": false
   },
   "outputs": [
    {
     "data": {
      "text/plain": [
       "(221, b'Bye')"
      ]
     },
     "execution_count": 4,
     "metadata": {},
     "output_type": "execute_result"
    }
   ],
   "source": [
    "'''\n",
    "添加附件 \n",
    "Message\n",
    "+- MIMEBase\n",
    "   +- MIMEMultipart\n",
    "   +- MIMENonMultipart\n",
    "      +- MIMEMessage\n",
    "      +- MIMEText\n",
    "      +- MIMEImage\n",
    "'''\n",
    "from email.mime.multipart import MIMEMultipart\n",
    "from email.mime.base import MIMEBase\n",
    "from email import encoders\n",
    "from email.header import Header\n",
    "from email.mime.text import MIMEText\n",
    "from email.utils import parseaddr,formataddr\n",
    "\n",
    "import smtplib,time,random\n",
    "def _format_addr(s):\n",
    "    name,addr = parseaddr(s)\n",
    "    return formataddr((Header(name,'utf-8').encode(),addr))\n",
    "from_addr = \"13522781970@163.com\"\n",
    "password = \"neverforget0919!\"\n",
    "to_addr = from_addr#\"511958060@qq.com\"\n",
    "smtp_server = \"smtp.163.com\"\n",
    "\n",
    "\n",
    "#Create Mail Object\n",
    "msg = MIMEMultipart()\n",
    "msg['From'] = _format_addr(\"NikoBelic Learning Python<%s>\" % from_addr)\n",
    "msg['To'] = _format_addr(\"Administrator <%s>\" % to_addr)\n",
    "msg['Subject'] = Header('来自中共中央的问候...','utf-8').encode()\n",
    "#Mail Text\n",
    "msg.attach(MIMEText('Send with file..','plain','utf-8'))\n",
    "msg.attach(MIMEText('<html><body><h1>Hello</h1>' +\n",
    "    '<p><img src=\"cid:0\"></p>' +\n",
    "    '</body></html>', 'html', 'utf-8'))\n",
    "#Add an attachment by adding a MIMEBase\n",
    "with open(\"C:\\\\Users\\\\lxw\\\\Desktop\\\\supersy.jpg\",'rb') as f:\n",
    "    mime = MIMEBase('image','jpeg',filename='test.jpg')\n",
    "    mime.add_header('Content-Disposition','attachment',filename='test.png')\n",
    "    mime.add_header(\"Content-ID\",\"<0>\")\n",
    "    mime.add_header(\"X-Attachment-ID\",'0')\n",
    "    mime.set_payload(f.read())\n",
    "    encoders.encode_base64(mime)\n",
    "    msg.attach(mime)\n",
    "server = smtplib.SMTP(smtp_server,25)\n",
    "# server.set_debuglevel(1)\n",
    "server.login(from_addr,password)\n",
    "server.sendmail(from_addr,[to_addr],msg.as_string() + str(random.randint(0,10000000000)))\n",
    "server.quit()"
   ]
  },
  {
   "cell_type": "code",
   "execution_count": 8,
   "metadata": {
    "collapsed": false
   },
   "outputs": [
    {
     "name": "stdout",
     "output_type": "stream",
     "text": [
      "+OK Welcome to coremail Mail Pop3 Server (163coms[726cd87d72d896a1ac393507346040fas])\n",
      "*cmd* 'USER 13522781970@163.com'\n",
      "*cmd* 'PASS neverforget0919!'\n",
      "*cmd* 'STAT'\n",
      "*stat* [b'+OK', b'24', b'15245156']\n",
      "Messages: 24. Size: 15245156\n",
      "*cmd* 'LIST'\n",
      "OCTETS: 251\n",
      "MailsInfo: [b'1 30476', b'2 36053', b'3 263801', b'4 7951288', b'5 193546', b'6 106923', b'7 123373', b'8 179520', b'9 10166', b'10 195583', b'11 201011', b'12 226110', b'13 219739', b'14 232448', b'15 146219', b'16 59251', b'17 222446', b'18 235616', b'19 238962', b'20 286775', b'21 17883', b'22 25516', b'23 220505', b'24 3821946']\n",
      "*cmd* 'RETR 24'\n",
      "From:NikoBelic Learning Python <13522781970@163.com>\n",
      "To:Administrator <13522781970@163.com>\n",
      "Subjetc:\n",
      "part 0\n",
      "------------------\n",
      " Text:Send with file......\n",
      "part 1\n",
      "------------------\n",
      " Text:<html><body><h1>Hello</h1><p><img src=\"cid:0\"></p></body></html>....\n",
      "part 2\n",
      "------------------\n",
      " Attachment: image/jpeg\n",
      "*cmd* 'QUIT'\n"
     ]
    },
    {
     "data": {
      "text/plain": [
       "b'+OK core mail'"
      ]
     },
     "execution_count": 8,
     "metadata": {},
     "output_type": "execute_result"
    }
   ],
   "source": [
    "#通过POP3下载邮件\n",
    "import poplib \n",
    "from email.parser import Parser\n",
    "from email.header import decode_header\n",
    "from email.utils import parseaddr\n",
    "from email.message import Message\n",
    "def print_info(msg,indent=0):\n",
    "    if indent ==0 :\n",
    "        for header in ['From','To','Subjetc']:\n",
    "            value = msg.get(header,'')\n",
    "            if value:\n",
    "                if header == 'Subject':\n",
    "                    value = decode_str(value)\n",
    "                else:\n",
    "                    hdr,addr = parseaddr(value)\n",
    "                    name = decode_str(hdr)\n",
    "                    value = u'%s <%s>' % (name,addr)\n",
    "            print('%s%s:%s'% (' '*indent,header,value))\n",
    "    if (msg.is_multipart()):\n",
    "        parts = msg.get_payload()\n",
    "        for n,part in enumerate(parts):\n",
    "            print(\"%spart %s\" % (' ' * indent,n))\n",
    "            print(\"%s------------------\"%(' ' * indent))\n",
    "            print_info(part,indent + 1)\n",
    "    else:\n",
    "        content_type = msg.get_content_type()\n",
    "        if content_type == 'text/plain' or content_type == 'text/html':\n",
    "            content = msg.get_payload(decode = True)\n",
    "            charset = guess_charset(msg)\n",
    "            if charset:\n",
    "                content = content.decode(charset)\n",
    "            print(\"%sText:%s\" % (' ' * indent,content + '....'))\n",
    "        else:\n",
    "            print(\"%sAttachment: %s\" % (' ' * indent,content_type))\n",
    "def guess_charset(msg):\n",
    "    charset = msg.get_charset()\n",
    "    if charset is None:\n",
    "        content_type = msg.get(\"Content-Type\",'').lower()\n",
    "        pos = content_type.find(\"charset=\")\n",
    "        if pos >= 0:\n",
    "            charset = content_type[pos + 8:].strip()\n",
    "    return charset\n",
    "def decode_str(s):\n",
    "    value,charset = decode_header(s)[0]\n",
    "    if charset:\n",
    "        value = value.decode(charset)\n",
    "    return value\n",
    "\n",
    "\n",
    "\n",
    "# load email address,pwd,server\n",
    "email = \"13522781970@163.com\"\n",
    "password = \"neverforget0919!\"\n",
    "pop3_server = \"pop.163.com\"\n",
    "\n",
    "#connect pop3 server\n",
    "server = poplib.POP3(pop3_server)\n",
    "server.set_debuglevel(1)\n",
    "# show welcome words\n",
    "print(server.getwelcome().decode('utf-8'))\n",
    "\n",
    "# identity \n",
    "server.user(email)\n",
    "server.pass_(password)\n",
    "\n",
    "# show count of emails and space occupied\n",
    "print(\"Messages: %s. Size: %s\" % server.stat())\n",
    "# show emails id\n",
    "resp,mails,octets = server.list()\n",
    "print(\"OCTETS:\",octets)\n",
    "print(\"MailsInfo:\",mails)\n",
    "# get a lastest email\n",
    "index = len(mails)\n",
    "resp,lines,octets = server.retr(index)\n",
    "# get original email text\n",
    "msg_content = b'\\r\\n'.join(lines).decode('utf-8')\n",
    "# parse the email\n",
    "msg = Parser().parsestr(msg_content)\n",
    "print_info(msg)\n",
    "# del email by id\n",
    "# server.dele(index)\n",
    "server.quit()\n",
    "\n"
   ]
  },
  {
   "cell_type": "code",
   "execution_count": null,
   "metadata": {
    "collapsed": true
   },
   "outputs": [],
   "source": []
  }
 ],
 "metadata": {
  "kernelspec": {
   "display_name": "Python 3",
   "language": "python",
   "name": "python3"
  },
  "language_info": {
   "codemirror_mode": {
    "name": "ipython",
    "version": 3
   },
   "file_extension": ".py",
   "mimetype": "text/x-python",
   "name": "python",
   "nbconvert_exporter": "python",
   "pygments_lexer": "ipython3",
   "version": "3.5.1"
  }
 },
 "nbformat": 4,
 "nbformat_minor": 0
}
