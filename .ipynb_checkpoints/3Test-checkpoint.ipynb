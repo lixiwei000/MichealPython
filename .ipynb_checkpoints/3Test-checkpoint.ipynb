{
 "cells": [
  {
   "cell_type": "code",
   "execution_count": null,
   "metadata": {
    "collapsed": true
   },
   "outputs": [],
   "source": [
    "'''\n",
    "测试\n",
    "try.except.finally  常用三段式\n",
    "logging 记录日志   可以输出到控制台，也可以存储到文件中\n",
    "'''"
   ]
  },
  {
   "cell_type": "code",
   "execution_count": 23,
   "metadata": {
    "collapsed": false,
    "scrolled": true
   },
   "outputs": [
    {
     "name": "stdout",
     "output_type": "stream",
     "text": [
      "Please input a:1\n",
      "Please input b:0\n"
     ]
    },
    {
     "name": "stderr",
     "output_type": "stream",
     "text": [
      "ERROR:root:\n",
      "Traceback (most recent call last):\n",
      "  File \"<ipython-input-23-c6c5b75d2931>\", line 8, in <module>\n",
      "    raise MyException\n",
      "MyException\n"
     ]
    },
    {
     "name": "stdout",
     "output_type": "stream",
     "text": [
      "All Done ! Whatever is it true!\n"
     ]
    }
   ],
   "source": [
    "import logging\n",
    "class MyException(ValueError):\n",
    "    pass\n",
    "try:\n",
    "    a = int(input(\"Please input a:\"))\n",
    "    b = int(input(\"Please input b:\"))\n",
    "    if b == 0:\n",
    "        raise MyException\n",
    "    print(\"a / b = %f\" % float(a/b))\n",
    "except MyException as me:\n",
    "    logging.exception(me)\n",
    "except ValueError as ve:\n",
    "    logging.exception(ve)\n",
    "except ZeroDivisionError as ze:\n",
    "    logging.exception(ve)\n",
    "finally:\n",
    "    print(\"All Done ! Whatever is it true!\")\n",
    "\n"
   ]
  },
  {
   "cell_type": "code",
   "execution_count": 33,
   "metadata": {
    "collapsed": false
   },
   "outputs": [],
   "source": [
    "import logging\n",
    "logging.basicConfig(level = logging.INFO)\n",
    "s = '0'\n",
    "n = int(s)\n",
    "logging.info('n = %d'%n)\n",
    "# print(10 / n)"
   ]
  }
 ],
 "metadata": {
  "kernelspec": {
   "display_name": "Python 3",
   "language": "python",
   "name": "python3"
  },
  "language_info": {
   "codemirror_mode": {
    "name": "ipython",
    "version": 3
   },
   "file_extension": ".py",
   "mimetype": "text/x-python",
   "name": "python",
   "nbconvert_exporter": "python",
   "pygments_lexer": "ipython3",
   "version": "3.5.1"
  }
 },
 "nbformat": 4,
 "nbformat_minor": 0
}
