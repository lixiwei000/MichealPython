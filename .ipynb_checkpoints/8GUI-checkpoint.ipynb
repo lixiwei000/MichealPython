{
 "cells": [
  {
   "cell_type": "code",
   "execution_count": null,
   "metadata": {
    "collapsed": true
   },
   "outputs": [],
   "source": [
    "from tkinter import *\n",
    "class Application(Frame):\n",
    "    def __init__(self,master=None):\n",
    "        Frame.__init__(self,master)\n",
    "        self.pack()\n",
    "        self.createWidgets()\n",
    "    def createWidgets(self):\n",
    "        self.helloLabel = Label(self,text=\"Hello World\")\n",
    "        self.helloLabel.pack()\n",
    "        self.quitButton = Button(self,text=\"Quit\",command=self.quit)\n",
    "        self.quitButton.pack()\n",
    "app = Application()\n",
    "\n",
    "app.master.title(\"Hello world\")\n",
    "\n",
    "app.mainloop()"
   ]
  },
  {
   "cell_type": "code",
   "execution_count": null,
   "metadata": {
    "collapsed": true
   },
   "outputs": [],
   "source": [
    "from tkinter import *\n",
    "import tkinter.messagebox as messagebox\n",
    "\n",
    "class Application(Frame):\n",
    "    def __init__(self,master=None):\n",
    "        Frame.__init__(self,master)\n",
    "        self.pack()\n",
    "        self.createWidgets()\n",
    "    def createWidgets(self):\n",
    "        self.nameInput = Entry(self)\n",
    "        self.nameInput.pack()\n",
    "        self.alertButton = Button(self,text='Hello',command=self.hello)\n",
    "        self.alertButton.pack()\n",
    "        \n",
    "    def hello(self):\n",
    "        name = self.nameInput.get() or 'world'\n",
    "        messagebox.showinfo('Message','Hello,%s' % name)\n",
    "app = Application()\n",
    "app.master.title(\"Hey\")\n",
    "app.mainloop()"
   ]
  }
 ],
 "metadata": {
  "kernelspec": {
   "display_name": "Python 3",
   "language": "python",
   "name": "python3"
  },
  "language_info": {
   "codemirror_mode": {
    "name": "ipython",
    "version": 3
   },
   "file_extension": ".py",
   "mimetype": "text/x-python",
   "name": "python",
   "nbconvert_exporter": "python",
   "pygments_lexer": "ipython3",
   "version": "3.5.1"
  }
 },
 "nbformat": 4,
 "nbformat_minor": 0
}
