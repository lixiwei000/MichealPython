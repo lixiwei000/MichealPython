{
 "cells": [
  {
   "cell_type": "code",
   "execution_count": 22,
   "metadata": {
    "collapsed": false
   },
   "outputs": [
    {
     "name": "stdout",
     "output_type": "stream",
     "text": [
      "Original image size : 2560x1440\n"
     ]
    }
   ],
   "source": [
    "#对图像加工处理\n",
    "from PIL import Image,ImageFilter\n",
    "img = Image.open('C:\\\\Users\\\\lxw\\\\Desktop\\\\supersy.jpg')\n",
    "w,h = img.size\n",
    "print(\"Original image size : %sx%s\"%(w,h))\n",
    "# img.thumbnail((w//2,h//2))\n",
    "# print(\"Resize image : %sx%s\"%(w//2,h//2))\n",
    "# img.save(\"C:\\\\Users\\\\lxw\\\\Desktop\\\\thumbnail.jpg\",\"jpeg\")\n",
    "img_blur = img.filter(ImageFilter.CONTOUR)\n",
    "img_blur.save(\"C:\\\\Users\\\\lxw\\\\Desktop\\\\blur.jpg\",\"jpeg\")"
   ]
  },
  {
   "cell_type": "code",
   "execution_count": 40,
   "metadata": {
    "collapsed": false
   },
   "outputs": [],
   "source": [
    "from PIL import Image,ImageDraw,ImageFont,ImageFilter\n",
    "import random\n",
    "\n",
    "def randomChar():\n",
    "    return chr(random.randint(65,90))\n",
    "def randomColor():\n",
    "    return (random.randint(64,255),random.randint(64,255),random.randint(64,255))\n",
    "def randomColor2():\n",
    "    return (random.randint(32,127),random.randint(32,127),random.randint(32,127))\n",
    "width = 60 * 4\n",
    "height = 60\n",
    "image = Image.new(\"RGB\",(width,height),(255,255,255))#空白画布\n",
    "font = ImageFont.truetype('C:\\\\Windows\\\\Fonts\\\\Arial.ttf',36)\n",
    "draw = ImageDraw.Draw(image)\n",
    "\n",
    "for x in range(width):\n",
    "    for y in range(height):\n",
    "        draw.point((x,y),fill=randomColor())\n",
    "for t in range(4):\n",
    "    draw.text((60 * t + 10,10),randomChar(),font=font,fill=randomColor2())\n",
    "image = image.filter(ImageFilter.BLUR)\n",
    "image.save(\"C:\\\\Users\\\\lxw\\\\Desktop\\\\code.jpg\",\"jpeg\")"
   ]
  }
 ],
 "metadata": {
  "kernelspec": {
   "display_name": "Python 3",
   "language": "python",
   "name": "python3"
  },
  "language_info": {
   "codemirror_mode": {
    "name": "ipython",
    "version": 3
   },
   "file_extension": ".py",
   "mimetype": "text/x-python",
   "name": "python",
   "nbconvert_exporter": "python",
   "pygments_lexer": "ipython3",
   "version": "3.5.1"
  }
 },
 "nbformat": 4,
 "nbformat_minor": 0
}
