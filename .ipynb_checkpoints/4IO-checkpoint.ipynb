{
 "cells": [
  {
   "cell_type": "code",
   "execution_count": null,
   "metadata": {
    "collapsed": true
   },
   "outputs": [],
   "source": [
    "'''\n",
    "IO\n",
    "    read():一次读取全部  内存爆炸\n",
    "    read(n):一次读n字节大小\n",
    "    readline():一次读一行\n",
    "    readlines():一次读全部，一次返回一行list\n",
    "为了防止忘记关闭文件，一般使用with open来打开文件\n",
    "    \n",
    "只要有read()方法的都是file-like-Object\n",
    "读二进制文件 open(path,\"rb\",encoding=\"gbk\",errors=\"ignore\")\n",
    "'''\n"
   ]
  },
  {
   "cell_type": "code",
   "execution_count": null,
   "metadata": {
    "collapsed": true
   },
   "outputs": [],
   "source": [
    "#File IO\n",
    "import os\n",
    "with open(\"/Users/lixiwei-mac/Documents/python/ipython/liaoxuefeng/IO.ipynb\",\"r\") as f:\n",
    "    print(f.read().strip())\n",
    "with open()"
   ]
  },
  {
   "cell_type": "code",
   "execution_count": null,
   "metadata": {
    "collapsed": true
   },
   "outputs": [],
   "source": [
    "#StringIO\n",
    "#注意：有坑，看起来StringIO只能 要么用来读 要么用来写。其实不然，写后，文件指针在文件结尾，读的时候肯定会读到空串，所以才会认为读写不可并存‘\n",
    "#其实使用seek函数就能重定向文件指针，然后读文件\n",
    "from io import StringIO\n",
    "f = StringIO(\"Fuck you  \")\n",
    "f.write(\"Hello\")\n",
    "f.write(\"World\")\n",
    "f.seek(0)\n",
    "print(f.getvalue())\n",
    "#ByteIO\n",
    "from io import BytesIO\n",
    "b = BytesIO(b'\\xe4\\xb8\\xad\\xe6\\x96\\x87')\n",
    "b.write(\"简体\".encode(\"UTF-8\"))\n",
    "b.seek(0)\n",
    "print(b.getvalue())"
   ]
  },
  {
   "cell_type": "code",
   "execution_count": null,
   "metadata": {
    "collapsed": true
   },
   "outputs": [],
   "source": [
    "#操作系统OS\n",
    "import os\n",
    "os.name\n",
    "os.uname()\n",
    "os.environ\n",
    "os.environ.get(\"PATH\")\n",
    "#文件和目录\n",
    "os.path.abspath('.')\n",
    "# os.path.join(\"testdir\")\n",
    "# os.mkdir(\"testdir\")\n",
    "# os.rmdir(\"testdir\")\n",
    "#拼接路径和拆分路径  不要直接品字符串 因为linux下是/  windows下是\\\n",
    "# os.path.join(\"shit\")\n",
    "\n",
    "os.path.split(os.path.abspath('.') + \"/text.txt\")#获取最后的目录或文件名\n",
    "os.path.splitext(os.path.abspath('.') + \"/text.txt\")  #获取后缀名\n",
    "# os.rename(\"test.py\",\"test.txt\")\n",
    "[x for x in os.listdir('.') if os.path.isdir(x)]\n",
    "[x for x in os.listdir('.') if os.path.isfile(x) and os.path.splitext(x)[1] == \".ipynb\"]\n",
    "# os.path.abspath('.')\n",
    "# os.listdir(\".\")"
   ]
  },
  {
   "cell_type": "code",
   "execution_count": 36,
   "metadata": {
    "collapsed": false,
    "scrolled": true
   },
   "outputs": [
    {
     "name": "stdout",
     "output_type": "stream",
     "text": [
      "Find it in E:\\Python\\doubanSpider.py\n",
      "Find it in E:\\Python\\first.py\n",
      "Find it in E:\\Python\\random.py\n",
      "Find it in E:\\Python\\WhileTest.py\n",
      "Find it in E:\\Python\\FishC\\2016-1-29.py\n",
      "Find it in E:\\Python\\FishC\\BaiduGrils.py\n",
      "Find it in E:\\Python\\FishC\\ProxyIP.py\n",
      "Find it in E:\\Python\\FishC\\UrlError.py\n",
      "Find it in E:\\Python\\FishC\\正则表达式.py\n",
      "Find it in E:\\Python\\FishC\\正则表达式1.py\n",
      "Find it in E:\\Python\\FishC\\正则表达式2.py\n",
      "Find it in E:\\Python\\FishC\\正则表达式3.py\n",
      "Find it in E:\\Python\\FishC\\煎蛋网爬虫.py\n",
      "Find it in E:\\Python\\FishC\\爬图片.py\n",
      "Find it in E:\\Python\\FishC\\爬虫基础知识.py\n",
      "Find it in E:\\Python\\FishC\\猫扑.py\n",
      "Find it in E:\\Python\\FishC\\百度贴吧图片.py\n",
      "Find it in E:\\Python\\Ipython\\liaoxuefeng\\Fundation_Function.py\n",
      "Find it in E:\\Python\\Ipython\\liaoxuefeng\\MetaClass.py\n",
      "Find it in E:\\Python\\py_tools\\forward_server.py\n",
      "Find it in E:\\Python\\py_tools\\forwarder\\configs.py\n",
      "Find it in E:\\Python\\py_tools\\forwarder\\configs.pyc\n",
      "Find it in E:\\Python\\py_tools\\forwarder\\core.py\n",
      "Find it in E:\\Python\\py_tools\\forwarder\\core.pyc\n",
      "Find it in E:\\Python\\py_tools\\forwarder\\forwarder.py\n"
     ]
    }
   ],
   "source": [
    "#实现 dir功能\n",
    "import os\n",
    "def find(path,name):\n",
    "    os.chdir(path)\n",
    "    files = [x for x in os.listdir(path) if os.path.isfile(x)]\n",
    "    for x in files:\n",
    "        if name in x:\n",
    "            print(\"Find it in %s\"%path+\"\\\\\"+x)\n",
    "    dirs = [x for x in os.listdir(path) if os.path.isdir(x)]\n",
    "    for dir in dirs:\n",
    "        find(path+\"\\\\\"+dir,name)\n",
    "os.getcwd()\n",
    "os.chdir(\"E:\\\\Python\")\n",
    "os.getcwd()\n",
    "find(os.getcwd(),\".py\")\n"
   ]
  },
  {
   "cell_type": "code",
   "execution_count": 56,
   "metadata": {
    "collapsed": false
   },
   "outputs": [
    {
     "name": "stdout",
     "output_type": "stream",
     "text": [
      "E:\\Python\\Ipython\n",
      "E:\\Python\\Ipython\\liaoxuefeng\n",
      "E:\\Python\\Ipython\\liaoxuefeng\\.ipynb_checkpoints\n",
      "E:\\Python\\Ipython\\liaoxuefeng\\0.0.0.0\n",
      "E:\\Python\\Ipython\\liaoxuefeng\\0.0.0.0\\extensions\n",
      "E:\\Python\\Ipython\\liaoxuefeng\\0.0.0.0\\nbextensions\n",
      "E:\\Python\\Ipython\\liaoxuefeng\\0.0.0.0\\profile_default\n",
      "E:\\Python\\Ipython\\liaoxuefeng\\0.0.0.0\\profile_default\\db\n",
      "E:\\Python\\Ipython\\liaoxuefeng\\0.0.0.0\\profile_default\\log\n",
      "E:\\Python\\Ipython\\liaoxuefeng\\0.0.0.0\\profile_default\\pid\n",
      "E:\\Python\\Ipython\\liaoxuefeng\\0.0.0.0\\profile_default\\security\n",
      "E:\\Python\\Ipython\\liaoxuefeng\\0.0.0.0\\profile_default\\startup\n"
     ]
    }
   ],
   "source": [
    "# key = \"r\"\n",
    "# for x in os.walk('.'):\n",
    "#     for y in x[2]:\n",
    "#         if key in os.path.split(y)[1]:\n",
    "#             print(os.path.join(os.path.abspath(x[0]), y))\n",
    "# os.walk(\".\")\n",
    "os.chdir(\"E:\\\\Python\\\\Ipython\")\n",
    "for x in os.walk('.'):\n",
    "#     print(os.path.abspath(x[0]))\n",
    "    for y in x[2]:\n",
    "        print(os.path.join(os.path.abspath(x[0]), y))\n"
   ]
  },
  {
   "cell_type": "code",
   "execution_count": 75,
   "metadata": {
    "collapsed": false
   },
   "outputs": [
    {
     "data": {
      "text/plain": [
       "{'age': 20, 'name': 'Niko', 'score': 100}"
      ]
     },
     "execution_count": 75,
     "metadata": {},
     "output_type": "execute_result"
    }
   ],
   "source": [
    "##序列化\n",
    "import pickle\n",
    "d = dict(name='Niko',age = 20,score=100)\n",
    "# pickle.dumps(d)\n",
    "with open(\"dump.txt\",\"wb\") as f:\n",
    "    pickle.dump(d,f)\n",
    "with open(\"dump.txt\",'rb') as f:\n",
    "    pickle.load(f)\n",
    "#     print(d)\n",
    "#Json\n",
    "import json\n",
    "d = dict(name='Niko',age = 20,score=100)\n",
    "json.dumps(d)\n",
    "json_str = '{\"age\": 20, \"name\": \"Niko\", \"score\": 100}'\n",
    "json.loads(json_str)"
   ]
  },
  {
   "cell_type": "code",
   "execution_count": 92,
   "metadata": {
    "collapsed": false
   },
   "outputs": [
    {
     "data": {
      "text/plain": [
       "Student : Niko 18"
      ]
     },
     "execution_count": 92,
     "metadata": {},
     "output_type": "execute_result"
    }
   ],
   "source": [
    "#Json进阶  对象序列化\n",
    "class Student(object):\n",
    "    def __init__(self,name,age):\n",
    "        self.name = name\n",
    "        self.age = age\n",
    "    def __str__(self):\n",
    "        return \"Student : %s %s\"%(self.name,self.age)\n",
    "    __repr__ = __str__\n",
    "s = Student(\"Niko\",18)\n",
    "d = json.dumps(s,default=lambda obj:obj.__dict__) #defaul参数指定对象系列化方式，一般class都有一个转换为dict的方法\n",
    "json.loads(d,object_hook=lambda d:Student(d['name'],d['age']))#反序列化出来的是一个dict，而不是我想要的Student对象，要实现直接变成Student对象，估计要用第三方库了\n"
   ]
  }
 ],
 "metadata": {
  "kernelspec": {
   "display_name": "Python 3",
   "language": "python",
   "name": "python3"
  },
  "language_info": {
   "codemirror_mode": {
    "name": "ipython",
    "version": 3
   },
   "file_extension": ".py",
   "mimetype": "text/x-python",
   "name": "python",
   "nbconvert_exporter": "python",
   "pygments_lexer": "ipython3",
   "version": "3.5.1"
  }
 },
 "nbformat": 4,
 "nbformat_minor": 0
}
