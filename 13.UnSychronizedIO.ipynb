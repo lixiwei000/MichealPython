{
 "cells": [
  {
   "cell_type": "code",
   "execution_count": 1,
   "metadata": {
    "collapsed": false
   },
   "outputs": [
    {
     "name": "stdout",
     "output_type": "stream",
     "text": [
      "[PRODUCER] Producing 1...\n",
      "[CONSUMER] Consuming 1...\n",
      "[PRODUCER] Consumer return:  200 OK\n",
      "[PRODUCER] Producing 2...\n",
      "[CONSUMER] Consuming 2...\n",
      "[PRODUCER] Consumer return:  200 OK\n",
      "[PRODUCER] Producing 3...\n",
      "[CONSUMER] Consuming 3...\n",
      "[PRODUCER] Consumer return:  200 OK\n",
      "[PRODUCER] Producing 4...\n",
      "[CONSUMER] Consuming 4...\n",
      "[PRODUCER] Consumer return:  200 OK\n",
      "[PRODUCER] Producing 5...\n",
      "[CONSUMER] Consuming 5...\n",
      "[PRODUCER] Consumer return:  200 OK\n"
     ]
    }
   ],
   "source": [
    "#协程\n",
    "def consumer():\n",
    "    r = ''\n",
    "    while True:\n",
    "        n = yield r\n",
    "        if not n:\n",
    "            return\n",
    "        print('[CONSUMER] Consuming %s...' % n)\n",
    "        r = ' 200 OK'\n",
    "def produce(c):\n",
    "    c.send(None)\n",
    "    n = 0\n",
    "    while n < 5:\n",
    "        n = n + 1\n",
    "        print(\"[PRODUCER] Producing %s...\" % n)\n",
    "        r = c.send(n)\n",
    "        print(\"[PRODUCER] Consumer return: %s\" % r)\n",
    "    c.close()\n",
    "\n",
    "c = consumer()\n",
    "produce(c)"
   ]
  },
  {
   "cell_type": "code",
   "execution_count": 1,
   "metadata": {
    "collapsed": false
   },
   "outputs": [
    {
     "name": "stdout",
     "output_type": "stream",
     "text": [
      "Hello world  (<_MainThread(MainThread, started 140735175024640)>)\n",
      "Hello world  (<_MainThread(MainThread, started 140735175024640)>)\n",
      "Hello again  (<_MainThread(MainThread, started 140735175024640)>)\n",
      "Hello again  (<_MainThread(MainThread, started 140735175024640)>)\n"
     ]
    }
   ],
   "source": [
    "#Asyncio\n",
    "import asyncio\n",
    "import threading\n",
    "@asyncio.coroutine\n",
    "def hello():\n",
    "    print(\"Hello world  (%s)\" % threading.currentThread())\n",
    "    r = yield from asyncio.sleep(1)\n",
    "    print(\"Hello again  (%s)\" % threading.currentThread())\n",
    "# 获取EventLoop\n",
    "loop = asyncio.get_event_loop()\n",
    "tasks = [hello(),hello()]\n",
    "loop.run_until_complete(asyncio.wait(tasks))\n",
    "loop.close()"
   ]
  },
  {
   "cell_type": "code",
   "execution_count": 11,
   "metadata": {
    "collapsed": true
   },
   "outputs": [
    {
     "name": "stdout",
     "output_type": "stream",
     "text": [
      "wget www.sina.com.cn...\n",
      "wget www.sohu.com...\n",
      "wget www.163.com...\n",
      "www.sina.com.cn header > HTTP/1.1 200 OK\n",
      "www.sina.com.cn header > Content-Type: text/html\n",
      "www.sina.com.cn header > Vary: Accept-Encoding\n",
      "www.sina.com.cn header > X-Powered-By: shci_v1.03\n",
      "www.sina.com.cn header > Server: nginx\n",
      "www.sina.com.cn header > Date: Wed, 23 Mar 2016 06:09:42 GMT\n",
      "www.sina.com.cn header > Last-Modified: Wed, 23 Mar 2016 06:06:49 GMT\n",
      "www.sina.com.cn header > Expires: Wed, 23 Mar 2016 06:10:42 GMT\n",
      "www.sina.com.cn header > Cache-Control: max-age=60\n",
      "www.sina.com.cn header > Age: 50\n",
      "www.sina.com.cn header > Content-Length: 545416\n",
      "www.sina.com.cn header > X-Cache: HIT from cernet194-220.sina.com.cn\n",
      "www.sina.com.cn header > Connection: close\n",
      "www.sohu.com header > HTTP/1.1 200 OK\n",
      "www.sohu.com header > Content-Type: text/html\n",
      "www.sohu.com header > Content-Length: 90884\n",
      "www.sohu.com header > Connection: close\n",
      "www.sohu.com header > Date: Wed, 23 Mar 2016 06:07:52 GMT\n",
      "www.sohu.com header > Server: SWS\n",
      "www.sohu.com header > Vary: Accept-Encoding\n",
      "www.sohu.com header > Cache-Control: no-transform, max-age=120\n",
      "www.sohu.com header > Expires: Wed, 23 Mar 2016 06:09:52 GMT\n",
      "www.sohu.com header > Last-Modified: Wed, 23 Mar 2016 06:02:00 GMT\n",
      "www.sohu.com header > Content-Encoding: gzip\n",
      "www.sohu.com header > X-RS: 10587158.19762208.11340962\n",
      "www.sohu.com header > FSS-Cache: HIT from 5868494.10324952.6622226\n",
      "www.sohu.com header > FSS-Proxy: Powered by 2788255.4164521.3541940\n",
      "www.163.com header > HTTP/1.0 302 Moved Temporarily\n",
      "www.163.com header > Server: Cdn Cache Server V2.0\n",
      "www.163.com header > Date: Wed, 23 Mar 2016 06:10:32 GMT\n",
      "www.163.com header > Content-Length: 0\n",
      "www.163.com header > Location: http://www.163.com/special/0077jt/error_isp.html\n",
      "www.163.com header > Connection: close\n"
     ]
    },
    {
     "data": {
      "text/plain": [
       "({<Task finished coro=<wget() done, defined at <ipython-input-11-d8a870461c3c>:3> result=None>,\n",
       "  <Task finished coro=<wget() done, defined at <ipython-input-11-d8a870461c3c>:3> result=None>,\n",
       "  <Task finished coro=<wget() done, defined at <ipython-input-11-d8a870461c3c>:3> result=None>},\n",
       " set())"
      ]
     },
     "execution_count": 11,
     "metadata": {},
     "output_type": "execute_result"
    }
   ],
   "source": [
    "import asyncio\n",
    "\n",
    "@asyncio.coroutine\n",
    "def wget(host):\n",
    "    print('wget %s...' % host)\n",
    "    connect = asyncio.open_connection(host, 80)\n",
    "    reader, writer = yield from connect\n",
    "    header = 'GET / HTTP/1.0\\r\\nHost: %s\\r\\n\\r\\n' % host\n",
    "    writer.write(header.encode('utf-8'))\n",
    "    yield from writer.drain()\n",
    "    while True:\n",
    "        line = yield from reader.readline()\n",
    "        if line == b'\\r\\n':\n",
    "            break\n",
    "        print('%s header > %s' % (host, line.decode('utf-8').rstrip()))\n",
    "    # Ignore the body, close the socket\n",
    "    writer.close()\n",
    "\n",
    "loop = asyncio.get_event_loop()\n",
    "tasks = [wget(host) for host in ['www.sina.com.cn', 'www.sohu.com', 'www.163.com']]\n",
    "loop.run_until_complete(asyncio.wait(tasks))\n",
    "# loop.close()"
   ]
  },
  {
   "cell_type": "code",
   "execution_count": 9,
   "metadata": {
    "collapsed": false
   },
   "outputs": [
    {
     "name": "stdout",
     "output_type": "stream",
     "text": [
      "0\n",
      "1\n",
      "4\n",
      "9\n",
      "16\n"
     ]
    }
   ],
   "source": [
    "def g(n):\n",
    "    for i in range(n):\n",
    "        yield from d(i)\n",
    "def d(x):\n",
    "    yield x**2\n",
    "for x in g(5):\n",
    "    print(x)"
   ]
  },
  {
   "cell_type": "code",
   "execution_count": 12,
   "metadata": {
    "collapsed": false
   },
   "outputs": [
    {
     "name": "stdout",
     "output_type": "stream",
     "text": [
      "Hello Async\n",
      "Hello Async\n",
      "Hello Again\n",
      "Hello Again\n"
     ]
    }
   ],
   "source": [
    "#python 3.5 引入的  替换@asyncio.coroutine的async    和 替换yiled from 的 await\n",
    "async def hello():\n",
    "    print(\"Hello Async\")\n",
    "    r = await asyncio.sleep(1)\n",
    "    print(\"Hello Again\")\n",
    "loop = asyncio.get_event_loop()\n",
    "tasks = [hello(),hello()]\n",
    "loop.run_until_complete(asyncio.wait(tasks))\n",
    "loop.close()"
   ]
  },
  {
   "cell_type": "code",
   "execution_count": null,
   "metadata": {
    "collapsed": false
   },
   "outputs": [
    {
     "name": "stdout",
     "output_type": "stream",
     "text": [
      "Server started at http://127.0.0.1:8000...\n"
     ]
    }
   ],
   "source": [
    "#aiohttp\n",
    "import asyncio\n",
    "from aiohttp import web\n",
    "\n",
    "async def index(request):\n",
    "    await asyncio.sleep(5)\n",
    "    return web.Response(body=b'<h1>Index<h1>')\n",
    "async def hello(request):\n",
    "    await asyncio.sleep(5)\n",
    "    text = '<h1>hello,%s!</h1>' % request.match_info['name']\n",
    "    return web.Response(body=text.encode('utf-8'))\n",
    "async def init(loop):\n",
    "    app = web.Application(loop = loop)\n",
    "    app.router.add_route('GET','/',index)\n",
    "    app.router.add_route('GET','/hello/{name}',hello)\n",
    "    srv = await loop.create_server(app.make_handler(),'127.0.0.1',8000)\n",
    "    print('Server started at http://127.0.0.1:8000...')\n",
    "    return srv\n",
    "loop = asyncio.get_event_loop()\n",
    "loop.run_until_complete(init(loop))\n",
    "loop.run_forever()"
   ]
  }
 ],
 "metadata": {
  "kernelspec": {
   "display_name": "Python 3",
   "language": "python",
   "name": "python3"
  },
  "language_info": {
   "codemirror_mode": {
    "name": "ipython",
    "version": 3
   },
   "file_extension": ".py",
   "mimetype": "text/x-python",
   "name": "python",
   "nbconvert_exporter": "python",
   "pygments_lexer": "ipython3",
   "version": "3.5.1"
  }
 },
 "nbformat": 4,
 "nbformat_minor": 0
}
