{
 "cells": [
  {
   "cell_type": "code",
   "execution_count": null,
   "metadata": {
    "collapsed": true
   },
   "outputs": [],
   "source": [
    "'''\n",
    "笔记：\n",
    "基础知识：\n",
    "用户输入函数input()\n",
    "print函数内多行\\'''xxxxx\\'''\n",
    "ord()函数  将字符传唤为unicode编码\n",
    "chr()函数  将unicode编码转换为char字符\n",
    "可以直接用16进制unicode输出中文'\\u4e2d\\u6587'\n",
    "在字符前面加上b,将字符转换为byte.要把字符存到文件，必须先把字符串转换为字节\n",
    "中文转换为bytes  '中文'.encode(\"UTF-8\")\n",
    "bytes转换为中文   b'\\xe4\\xb8\\xad\\xe6\\x96\\x87'.decode(\"UTF-8\")\n",
    "计算字符数 len()\n",
    "计算字节数 len( '中文'.encode(\"UTF-8\"))\n",
    "格式化输出和C一致，%d,%s,%f,%x  其他补0等操作也一样 %%表示输出一个%  而不是用\\%\n",
    "List      classmates = ['李熙伟','王超','张宇','陈强强']  操作:append(i),[:-1],pop(i),classmates[i] = ?\n",
    "Tuple  创建后就不可以改变，其他操作和List类似 创建只含有1个元素的tuple必须消除和小括号的歧义(某人是小括号) t = (1,)\n",
    "range(n)函数  生成0~n的整数序列\n",
    "循环: for x in list/tuple   和  while x < ?\n",
    "Dict  同 Java中的Map  操作 get(key),pop(key)\n",
    "Set   同Java中的Set类似  只能存放不可变对象  例如list这样的数据结构就不能放入，但是为什么tuple中能放入list呢？\n",
    "tuple是一个不可变对象，但是其中存放了可变的list而不报错，是因为tuple中实质存放的是地址，\n",
    "而其中list地址所指向的值虽然变了，但是list的地址并没有改变，所以认为tuple仍然是不变的\n",
    "\n",
    "函数：\n",
    "内置函数  help(xxx)来查看函数的api\n",
    "定义函数  定义一个函数get_sum(n) 保存在文件sumtest.py 中  可以在其他文件中 from sumtest import get_sum 来导入该函数\n",
    "          对函数的输入参数做类型检查，如果类型不对则抛出异常 \n",
    "          if not isinstance(n,(int,float)): \n",
    "              raise TypeError('类型不对啊')\n",
    "函数的多个返回值误区：return x,y 实际上是返回了一个tuple数组，但是返回时省略了（）.\n",
    "    虽然这里看起来像是一个函数返回了多个值，在Java中不存在这样的语法\n",
    "    但是实际上，这个函数只是返回了一个tuple，而省略了（），所以容易让人产生误解\n",
    "    用1个变量去接收这个函数的返回值就能看出来返回值是一个tuple了\n",
    "    接收tuple返回值，可以用对应的位置去接收tuple的内容  例如 x,y = (1,2) => x = 1,y = 2\n",
    "默认参数 : 通过在函数定义的参数中给出默认值来设置默认参数。加入默认参数有3,4    使用时3默认，4设置，就需要显示给出参数值\"\"\n",
    "    def register(name,gender,age=18,city='BeiJing')\n",
    "    使用register('lixiwei','Male',city='TianJin')\n",
    "    \n",
    "    默认参数的一个大坑  两次add_end()会出现错误，好像上次的默认值被记住了一样\n",
    "    解释：\n",
    "    函数的默认参数也是一个变量，他指向了[],如果改变了L的内容，下次的默认参数就变了\n",
    "    所以默认参数一定要指向一个不变对象\n",
    "    要改变这个例子，可以用None来设置默认参数\n",
    "    将默认参数设置为None，不指向任何对象，调用参数时如果使用默认参数，就将L初始化\n",
    "可变参数 ：定义函数时可以将参数设置为可变参数，即参数的长度不固定，在函数内部是一个以tuple来存储这些参数\n",
    "    当然，在传入可变参数时，不可能一下传一大堆，我们可以传进一个list或者tuple. l = (1,3,4,5);sum(*l) 将tuple转化弄成了可变参数传输到函数\n",
    "关键字参数：关键字参数实质上是一个dict，可以传入0个或多个k-v键值对 def person(name,age,**kw) \n",
    "            传入值时可以先定义一个dict.  extra = {'city':'BeiJing','Height':200,'Weight':150} \n",
    "            然后将dict转换为参数传入  person('李熙伟',20,**extra)\n",
    "命名关键字参数：即在关键字参数的前提下，规定只接收在参数中显示声明的key    def student(name,*,age,city) 其中*是分隔符,age,city是规定的key值\n",
    "5中函数参数一起结合使用时，可变参数无法和命名关键字参数混合，需要注意参数的顺序：必选参数、默认参数、可变参数/命名关键字参数和关键字参数。\n",
    "递归函数：Hanoi\n",
    "'''\n"
   ]
  },
  {
   "cell_type": "code",
   "execution_count": null,
   "metadata": {
    "collapsed": true
   },
   "outputs": [],
   "source": [
    "'''\n",
    "高级特性\n",
    "切片   使用[:]来操作List、Tuple、String类型的数据  可以用一行代码完成需要循环才能做的操作[:100:10]前100个数 每10个数取1个\n",
    "        小技巧：逆序列表 l[::-1]\n",
    "迭代   使用for x in list/tuple/dict来迭代\n",
    "       要判断对象是否可以迭代用isinstance(object,Iterable)来判断\n",
    "列表生成式   非常强大且方便的特性\n",
    "        使用list(range(a,b))生成一个[a,b)的List ，但是我们想要生成的List是i*i  i属于[a,b)  \n",
    "        很容易想到使用循环来一次次的append(i*i) \n",
    "        用更好的方法 列表生成式！ L [x*x for x in range(a,b)]\n",
    "        还可以在for后加判断\n",
    "        还可以对dict或者双层循环来使用多个变量\n",
    "生成器  列表生成式使用[]表示  生成器用()表示，不同之处在于生成器返回的是一个generator,其中存储的是算法而不是数据。\n",
    "        每当需要进行计算的时候，就调用generator的next()方法,使用excep+break结束循环\n",
    "        一个函数中如果含有yield关键字，那么这个函数就是一个generator\n",
    "        函数每次执行到yield就会返回，再次调用next()的时候会继上次的位置继续执行.\n",
    "        【理解杨辉三角】\n",
    "迭代器  list dict str （x for x in range(10)）都是Iterable可迭代对象\n",
    "        然而只有generator是iterator迭代器 可以使用next()方法\n",
    "        使用iter(xxx)来将非迭代器对象转换为迭代器对象  然后就可以调用next方法了。同样使用excep StopIteration:break来结束迭代\n",
    "'''"
   ]
  },
  {
   "cell_type": "code",
   "execution_count": null,
   "metadata": {
    "collapsed": true
   },
   "outputs": [],
   "source": [
    "'''\n",
    "函数式编程 \n",
    "高阶函数    一个函数的参数可以是函数，这样的函数称为高阶函数\n",
    "Map/Reduce  Map(fun,list)  map将list中的每个元素分别传输到fun中进行处理  处理结果是一个map，可以转换为list  =>多对多\n",
    "            Reduce(fun,list) map将list中的每个元素传输到fun中进行处理  处理结果是一个对象  =>多对一\n",
    "            一般将M/R与lambda表达式结合使用，代码简洁  \n",
    "Sorted     支持按key函数排序 key函数的参数对应list中的一个元素  sorted(list,key=lower)\n",
    "返回函数    一个函数的返回值是一个函数，这种函数是懒加载的。注意闭包的使用（有坑）。\n",
    "匿名函数lambda\n",
    "装饰器     是一种设计模式，对函数进行加工而不改变函数的内部结构，原理是在函数外部套一层包装函数，在包装中添加想要的新功能\n",
    "            和fucntools配合使用\n",
    "偏函数     其实就是把函数的某个参数给固定，返回一个新的函数方便调用 比如二进制函数 int2 = functools.partial(int,base=2)\n",
    "'''\n"
   ]
  },
  {
   "cell_type": "code",
   "execution_count": 130,
   "metadata": {
    "collapsed": false
   },
   "outputs": [
    {
     "data": {
      "text/plain": [
       "123456789"
      ]
     },
     "execution_count": 130,
     "metadata": {},
     "output_type": "execute_result"
    }
   ],
   "source": [
    "##############################################函数式编程#################################################\n",
    "###高阶函数\n",
    "from math import *\n",
    "def fun(x,*fs):\n",
    "    result = [f(x) for f in fs]\n",
    "    return result\n",
    "fun(2,sqrt,abs)\n",
    "\n",
    "### map/reduce\n",
    "def multiple(x):\n",
    "    return x * x\n",
    "l = range(10)\n",
    "r = map(multiple,l)\n",
    "\n",
    "from functools import reduce\n",
    "def fun(x,y):\n",
    "    return x * 10 + y\n",
    "reduce(fun,[1,2,3,4,5,6,7,8,9])"
   ]
  },
  {
   "cell_type": "code",
   "execution_count": 3,
   "metadata": {
    "collapsed": false,
    "scrolled": true
   },
   "outputs": [
    {
     "data": {
      "text/plain": [
       "0.123"
      ]
     },
     "execution_count": 3,
     "metadata": {},
     "output_type": "execute_result"
    }
   ],
   "source": [
    "from functools import reduce\n",
    "def normalize(x):\n",
    "    return x[0].upper() + x[1:].lower()\n",
    "L1 = ['adam', 'LISA', 'barT'] \n",
    "L2 = list(map(normalize,L1))\n",
    "\n",
    "def prod(n):\n",
    "    return reduce(lambda x,y:x*y,list(n))\n",
    "r = prod([1,2,3,4])\n",
    "\n",
    "def char2num(x):\n",
    "    return {'0':0,'1':1,'2':2,'3':3,'4':4,'5':5,'6':6,'7':7,'8':8,'9':9}[x]##为什么这么写\n",
    "def str2float(x):\n",
    "    if x.find('.')!= -1:\n",
    "        return reduce(lambda x,y:x*10+y,map(char2num,x[0:x.find('.')])) + reduce(lambda x,y:x*10+y,map(char2num,x[x.find('.')+1:]))/10**len(x[x.find('.')+1:])\n",
    "    else:\n",
    "        return int(x)\n",
    "str2float(\"0.123\")\n",
    "\n"
   ]
  },
  {
   "cell_type": "code",
   "execution_count": 185,
   "metadata": {
    "collapsed": false
   },
   "outputs": [],
   "source": [
    "def is_odd(x):\n",
    "    return x % 2 == 1\n",
    "l = list(filter(is_odd,[1,2,3,4,5,6,7,8,9]))\n",
    "\n",
    "#求素数\n",
    "def _odd_iter():\n",
    "    n = 1\n",
    "    while True:\n",
    "        n = n + 2\n",
    "        yield n\n",
    "\n",
    "def _not_divisible(n):\n",
    "    return lambda x : x % n > 0\n",
    "\n",
    "def primes():\n",
    "    yield 2\n",
    "    it = _odd_iter()   #3,5,7,9.11  素数队列\n",
    "    while True:\n",
    "        n = next(it)\n",
    "        yield n\n",
    "        it = filter(_not_divisible(n),it)\n",
    "\n",
    "# for n in primes():\n",
    "#     if n < 1000:\n",
    "#         print(n)\n",
    "#     else:\n",
    "#         break"
   ]
  },
  {
   "cell_type": "code",
   "execution_count": 201,
   "metadata": {
    "collapsed": false
   },
   "outputs": [
    {
     "data": {
      "text/plain": [
       "[7, 6, 5, 4, 3, 2, 1]"
      ]
     },
     "execution_count": 201,
     "metadata": {},
     "output_type": "execute_result"
    }
   ],
   "source": [
    "#求回数\n",
    "def is_palindrome(n):\n",
    "    s = str(n)\n",
    "    length = len(s)\n",
    "    odd = length % 2 > 0\n",
    "    if(odd):\n",
    "        mid = int((length-1)/2 )\n",
    "    else:\n",
    "        mid = int(length / 2)\n",
    "    for x in range(mid):\n",
    "        if s[x] == s[length-1-x]:\n",
    "            pass\n",
    "        else:\n",
    "            return False\n",
    "    return True\n",
    "#论坛见到的一个牛逼的方法\n",
    "def is_p2(n):\n",
    "    return str(n) == str(n)[::-1]\n",
    "result1 = list(filter(is_palindrome,range(1,1000)))\n",
    "result2 = list(filter(is_p2,range(1,1000)))\n",
    "l = [1,2,3,4,5,6,7]\n",
    "l[::-1]"
   ]
  },
  {
   "cell_type": "code",
   "execution_count": 218,
   "metadata": {
    "collapsed": false
   },
   "outputs": [
    {
     "name": "stdout",
     "output_type": "stream",
     "text": [
      "学生名称排序: [('Adam', 92), ('Bart', 66), ('Bob', 75), ('Lisa', 88)]\n",
      "成绩高低排序: [('Adam', 92), ('Lisa', 88), ('Bob', 75), ('Bart', 66)]\n"
     ]
    }
   ],
   "source": [
    "#sorted函数\n",
    "L = [('Bob', 75), ('Adam', 92), ('Bart', 66), ('Lisa', 88)]\n",
    "L1 = sorted(L,key=lambda x:x[0])\n",
    "L2 = sorted(L,key=lambda x:x[1],reverse=True)\n",
    "print('学生名称排序:',L1)\n",
    "print('成绩高低排序:',L2)"
   ]
  },
  {
   "cell_type": "code",
   "execution_count": 20,
   "metadata": {
    "collapsed": false,
    "scrolled": true
   },
   "outputs": [
    {
     "ename": "NameError",
     "evalue": "name 'f4' is not defined",
     "output_type": "error",
     "traceback": [
      "\u001b[1;31m---------------------------------------------------------------------------\u001b[0m",
      "\u001b[1;31mNameError\u001b[0m                                 Traceback (most recent call last)",
      "\u001b[1;32m<ipython-input-20-f10bebfc8f90>\u001b[0m in \u001b[0;36m<module>\u001b[1;34m()\u001b[0m\n\u001b[0;32m     15\u001b[0m     \u001b[0mfs\u001b[0m\u001b[1;33m.\u001b[0m\u001b[0mappend\u001b[0m\u001b[1;33m(\u001b[0m\u001b[0mf\u001b[0m\u001b[1;33m(\u001b[0m\u001b[0mi\u001b[0m\u001b[1;33m)\u001b[0m\u001b[1;33m)\u001b[0m  \u001b[1;31m#f(i)立刻被执行，因此i的当前值被传入f()\u001b[0m\u001b[1;33m\u001b[0m\u001b[0m\n\u001b[0;32m     16\u001b[0m \u001b[0mf1\u001b[0m\u001b[1;33m,\u001b[0m\u001b[0mf2\u001b[0m\u001b[1;33m,\u001b[0m\u001b[0mf3\u001b[0m \u001b[1;33m=\u001b[0m \u001b[0mfs\u001b[0m\u001b[1;33m\u001b[0m\u001b[0m\n\u001b[1;32m---> 17\u001b[1;33m \u001b[0mf4\u001b[0m\u001b[1;33m(\u001b[0m\u001b[1;33m)\u001b[0m\u001b[1;33m\u001b[0m\u001b[0m\n\u001b[0m",
      "\u001b[1;31mNameError\u001b[0m: name 'f4' is not defined"
     ]
    }
   ],
   "source": [
    "#返回函数、闭包 \n",
    "def lazy_sum(*args):\n",
    "    def sum():\n",
    "        result = 0\n",
    "        for x in args:\n",
    "            result  = result + x\n",
    "        return result\n",
    "    return sum\n",
    "f1 = lazy_sum(1,2,3,4,5)\n",
    "f2 = lazy_sum(4,5)\n",
    "#闭包\n",
    "#注意闭包的坑，在循环中，如果f(i)不被立即执行，则传入f的值为循环最后一次的i值\n",
    "f = lambda j : lambda :j*j\n",
    "fs = []\n",
    "for i in range(1,4):\n",
    "    fs.append(f(i))  #f(i)立刻被执行，因此i的当前值被传入f()\n",
    "f1,f2,f3 = fs\n"
   ]
  },
  {
   "cell_type": "code",
   "execution_count": 26,
   "metadata": {
    "collapsed": false
   },
   "outputs": [
    {
     "data": {
      "text/plain": [
       "9"
      ]
     },
     "execution_count": 26,
     "metadata": {},
     "output_type": "execute_result"
    }
   ],
   "source": [
    "def build(x,y):\n",
    "    return lambda :x+y\n",
    "f = build(4,5)\n",
    "f()"
   ]
  },
  {
   "cell_type": "code",
   "execution_count": 73,
   "metadata": {
    "collapsed": false
   },
   "outputs": [
    {
     "name": "stdout",
     "output_type": "stream",
     "text": [
      "No params\n"
     ]
    },
    {
     "ename": "NameError",
     "evalue": "name 'func' is not defined",
     "output_type": "error",
     "traceback": [
      "\u001b[1;31m---------------------------------------------------------------------------\u001b[0m",
      "\u001b[1;31mNameError\u001b[0m                                 Traceback (most recent call last)",
      "\u001b[1;32m<ipython-input-73-a1840edf851e>\u001b[0m in \u001b[0;36m<module>\u001b[1;34m()\u001b[0m\n\u001b[0;32m     42\u001b[0m         \u001b[1;32mreturn\u001b[0m \u001b[0mwrapper\u001b[0m\u001b[1;33m\u001b[0m\u001b[0m\n\u001b[0;32m     43\u001b[0m     \u001b[1;32mreturn\u001b[0m \u001b[0mdecorate\u001b[0m\u001b[1;33m\u001b[0m\u001b[0m\n\u001b[1;32m---> 44\u001b[1;33m \u001b[1;33m@\u001b[0m\u001b[0mlog3\u001b[0m\u001b[1;33m\u001b[0m\u001b[0m\n\u001b[0m\u001b[0;32m     45\u001b[0m \u001b[1;32mdef\u001b[0m \u001b[0mf\u001b[0m\u001b[1;33m(\u001b[0m\u001b[1;33m)\u001b[0m\u001b[1;33m:\u001b[0m\u001b[1;33m\u001b[0m\u001b[0m\n\u001b[0;32m     46\u001b[0m     \u001b[0mprint\u001b[0m\u001b[1;33m(\u001b[0m\u001b[1;34m\"Mother Fucker!\"\u001b[0m\u001b[1;33m)\u001b[0m\u001b[1;33m\u001b[0m\u001b[0m\n",
      "\u001b[1;32m<ipython-input-73-a1840edf851e>\u001b[0m in \u001b[0;36mlog3\u001b[1;34m(text)\u001b[0m\n\u001b[0;32m     33\u001b[0m         \u001b[0mprint\u001b[0m\u001b[1;33m(\u001b[0m\u001b[1;34m\"No params\"\u001b[0m\u001b[1;33m)\u001b[0m\u001b[1;33m\u001b[0m\u001b[0m\n\u001b[0;32m     34\u001b[0m \u001b[1;31m#         func = text\u001b[0m\u001b[1;33m\u001b[0m\u001b[1;33m\u001b[0m\u001b[0m\n\u001b[1;32m---> 35\u001b[1;33m         \u001b[1;33m@\u001b[0m\u001b[0mfunctools\u001b[0m\u001b[1;33m.\u001b[0m\u001b[0mwraps\u001b[0m\u001b[1;33m(\u001b[0m\u001b[0mfunc\u001b[0m\u001b[1;33m)\u001b[0m\u001b[1;33m\u001b[0m\u001b[0m\n\u001b[0m\u001b[0;32m     36\u001b[0m         \u001b[1;32mdef\u001b[0m \u001b[0mwrapper\u001b[0m\u001b[1;33m(\u001b[0m\u001b[1;33m*\u001b[0m\u001b[0margs\u001b[0m\u001b[1;33m,\u001b[0m\u001b[1;33m**\u001b[0m\u001b[0mkw\u001b[0m\u001b[1;33m)\u001b[0m\u001b[1;33m:\u001b[0m\u001b[1;33m\u001b[0m\u001b[0m\n\u001b[0;32m     37\u001b[0m             \u001b[0mprint\u001b[0m\u001b[1;33m(\u001b[0m\u001b[1;34m\"before : %s %s\"\u001b[0m \u001b[1;33m%\u001b[0m \u001b[1;33m(\u001b[0m\u001b[0mtext\u001b[0m\u001b[1;33m,\u001b[0m\u001b[0mfunc\u001b[0m\u001b[1;33m.\u001b[0m\u001b[0m__name__\u001b[0m\u001b[1;33m)\u001b[0m\u001b[1;33m)\u001b[0m\u001b[1;33m\u001b[0m\u001b[0m\n",
      "\u001b[1;31mNameError\u001b[0m: name 'func' is not defined"
     ]
    }
   ],
   "source": [
    "#装饰器\n",
    "#一般的装饰器需要两层   一层接收函数名，一层接收函数的参数，最后将其组合调用原函数，然后返回装饰器函数\n",
    "def log(func):\n",
    "    def wrapper(*args,**kw):\n",
    "        print('call %s():'%func.__name__)\n",
    "        return func(*args,**kw)\n",
    "    return wrapper\n",
    "import functools\n",
    "def log2(text):\n",
    "    def decorator(func):\n",
    "        @functools.wraps(func)\n",
    "        def wrapper(*args,**kw):\n",
    "            print('%s %s():' % (text,func.__name__))\n",
    "            return func(*args,**kw)\n",
    "        return wrapper\n",
    "    return decorator\n",
    "@log2('execute')\n",
    "def now():\n",
    "    print('2016年03月10日')\n",
    "now.__name__\n",
    "\n",
    "def log3(text):\n",
    "    if isinstance(text,(str,int,float)):\n",
    "        def decorate(func):\n",
    "            print(\"before : %s %s\" % (text,func.__name__))\n",
    "            def wrapper(*args,**kw):\n",
    "                print(\"%s %s\" % (text,func.__name__))\n",
    "                result = func(*args,**kw)\n",
    "                print(\"end : %s %s\" % (text,func.__name__))\n",
    "                return result\n",
    "            return wrapper\n",
    "    else:\n",
    "        print(\"No params\")\n",
    "        func = text\n",
    "        @functools.wraps(func)\n",
    "        def wrapper(*args,**kw):\n",
    "            print(\"before : %s %s\" % (text,func.__name__))\n",
    "            print(\"%s %s\" % (text,func.__name__))\n",
    "            result = func(*args,**kw)\n",
    "            print(\"end : %s %s\" % (text,func.__name__))\n",
    "            return result\n",
    "        return wrapper\n",
    "    return decorate\n",
    "@log3\n",
    "def f():\n",
    "    print(\"Mother Fucker!\")\n",
    "f()"
   ]
  },
  {
   "cell_type": "code",
   "execution_count": 86,
   "metadata": {
    "collapsed": false
   },
   "outputs": [
    {
     "data": {
      "text/plain": [
       "10"
      ]
     },
     "execution_count": 86,
     "metadata": {},
     "output_type": "execute_result"
    }
   ],
   "source": [
    "#偏函数\n",
    "int('A',base=11)"
   ]
  },
  {
   "cell_type": "code",
   "execution_count": 198,
   "metadata": {
    "collapsed": false
   },
   "outputs": [
    {
     "data": {
      "text/plain": [
       "[0, 10, 20, 30, 40, 50, 60, 70, 80, 90]"
      ]
     },
     "execution_count": 198,
     "metadata": {},
     "output_type": "execute_result"
    }
   ],
   "source": [
    "\n",
    "##############################################高级特性#################################################\n",
    "#切片\n",
    "l = list(range(100))\n",
    "l[:10]\n",
    "l[-10:]\n",
    "l[::10]\n",
    "# l[:20:2]\n",
    "#迭代\n",
    "# d = {'city':'Beijing','age':18,'name':'lixiwei'}\n",
    "# for i in d.items():\n",
    "# #     print(i)\n",
    "# from collections import Iterable\n",
    "# isinstance((1,2,3),Iterable)\n",
    "# for i,value in enumerate(['A','B','C','D']):\n",
    "# #     print(i,value)\n",
    "# for x,y, in [(1,2),(3,65)]:\n",
    "#     print(x,y)\n",
    "\n",
    "#"
   ]
  },
  {
   "cell_type": "code",
   "execution_count": 71,
   "metadata": {
    "collapsed": false
   },
   "outputs": [
    {
     "data": {
      "text/plain": [
       "['hello', 'world', 'apple']"
      ]
     },
     "execution_count": 71,
     "metadata": {},
     "output_type": "execute_result"
    }
   ],
   "source": [
    "#列表生成求\n",
    "list(range(0,11))\n",
    "\n",
    "l = [x + y for x in 'ABC' for y in 'DEF' if x != 'A']\n",
    "import os\n",
    "d = [d for d in os.listdir('E://')]\n",
    "\n",
    "k = [k + '=' + v for k,v in {'city':'BeiJing','name':'Niko'}.items()]\n",
    "l = [w.lower() for w in ('Niko','Belic')]\n",
    "L = ['Hello','World',18,'Apple',None]\n",
    "[s.lower() for s in L if isinstance(s,str)]"
   ]
  },
  {
   "cell_type": "code",
   "execution_count": 96,
   "metadata": {
    "collapsed": false,
    "scrolled": true
   },
   "outputs": [
    {
     "name": "stdout",
     "output_type": "stream",
     "text": [
      "1\n",
      "1\n",
      "2\n",
      "3\n",
      "5\n",
      "8\n",
      "Done\n"
     ]
    }
   ],
   "source": [
    "#生成器\n",
    "g = (x * x for x in range(10))\n",
    "# for x in g:\n",
    "#     print(x)\n",
    "\n",
    "def fib(n):\n",
    "    if n == 1:\n",
    "        return 1\n",
    "    if n == 2:\n",
    "        return 1\n",
    "    return fib(n-1) + fib(n-2)\n",
    "#  1 1 2 3 5 8 13\n",
    "'''\n",
    " 这里有坑\n",
    " a, b = b, a+b\n",
    "# 这种赋值，先计算等值 右边 那么 b=1 a+b=1\n",
    "# 再赋值给a和b，那么 a=1, b=1\n",
    "''' \n",
    "def fib2(max):\n",
    "    n = 0\n",
    "    a = 0\n",
    "    b = 1\n",
    "    while n < max:\n",
    "        yield b\n",
    "        a = b \n",
    "        b = a + b\n",
    "        n = n + 1\n",
    "        \n",
    "def fib3(max):\n",
    "    n, a, b = 0, 0, 1\n",
    "    while n < max:\n",
    "        yield b\n",
    "        a, b = b, a + b\n",
    "        n = n + 1\n",
    "    return 'done'\n",
    "\n",
    "g = fib3(6)\n",
    "while True:\n",
    "    try:\n",
    "        x = next(g)\n",
    "        print(x)\n",
    "    except:\n",
    "        print(\"Done\")\n",
    "        break"
   ]
  },
  {
   "cell_type": "code",
   "execution_count": 107,
   "metadata": {
    "collapsed": false,
    "scrolled": true
   },
   "outputs": [
    {
     "name": "stdout",
     "output_type": "stream",
     "text": [
      "[1]\n",
      "[1, 1]\n",
      "[1, 2, 1]\n",
      "[1, 3, 3, 1]\n",
      "[1, 4, 6, 4, 1]\n",
      "[1, 5, 10, 10, 5, 1]\n",
      "[1, 6, 15, 20, 15, 6, 1]\n",
      "[1, 7, 21, 35, 35, 21, 7, 1]\n",
      "[1, 8, 28, 56, 70, 56, 28, 8, 1]\n",
      "[1, 9, 36, 84, 126, 126, 84, 36, 9, 1]\n"
     ]
    }
   ],
   "source": [
    "#杨辉三角\n",
    "def triangles():\n",
    "    l = [1]\n",
    "    yield l\n",
    "    while True:\n",
    "        l = [1] + [l[i] + l[i + 1] for i in range(len(l) - 1)] + [1]#开始以为第一次会报异常 解释:for i in range(0) 不会进入循环\n",
    "        yield l\n",
    "n = 0\n",
    "for t in triangles():\n",
    "    print(t)\n",
    "    n = n + 1\n",
    "    if n == 10:\n",
    "        break\n"
   ]
  },
  {
   "cell_type": "code",
   "execution_count": 149,
   "metadata": {
    "collapsed": false
   },
   "outputs": [
    {
     "data": {
      "text/plain": [
       "[<map at 0x1c0072a4c50>, <map at 0x1c0072a4ac8>, <map at 0x1c0072a4710>]"
      ]
     },
     "execution_count": 149,
     "metadata": {},
     "output_type": "execute_result"
    }
   ],
   "source": [
    "#Map Reduce\n",
    "L = ['adam', 'LISA', 'barT']\n",
    "def to_low(c):\n",
    "    if c.islower():\n",
    "        return c.upper()\n",
    "    return c\n",
    "\n",
    "def head2upper(c):\n",
    "    return c.upper()\n",
    "\n",
    "r = [map(to_low,s) for s in L]\n",
    "\n",
    "# L2  = [reduce(head2upper,[map(to_low,s)]) for s in L ]"
   ]
  },
  {
   "cell_type": "code",
   "execution_count": 8,
   "metadata": {
    "collapsed": false
   },
   "outputs": [
    {
     "name": "stdout",
     "output_type": "stream",
     "text": [
      "输入a:3\n",
      "输入b:4\n",
      "a + b =  7\n"
     ]
    }
   ],
   "source": [
    "##############################################基础知识#################################################\n",
    "a = int(input(\"输入a:\"))\n",
    "b = int(input(\"输入b:\"))\n",
    "print(\"a + b = \",(a+b))"
   ]
  },
  {
   "cell_type": "code",
   "execution_count": 42,
   "metadata": {
    "collapsed": false
   },
   "outputs": [
    {
     "name": "stdout",
     "output_type": "stream",
     "text": [
      "Hello \"bart\"\n"
     ]
    }
   ],
   "source": [
    "n = 123\n",
    "f = 456.789\n",
    "s1 = 'Hello, world'\n",
    "s2 = 'Hello, \\'Adam\\''\n",
    "s3 = 'Hello, \"Bart\"'\n",
    "s4 = '''Hello,\n",
    "Lisa!'''\n",
    "\n",
    "print('Hello \"bart\"')"
   ]
  },
  {
   "cell_type": "code",
   "execution_count": 132,
   "metadata": {
    "collapsed": false
   },
   "outputs": [
    {
     "data": {
      "text/plain": [
       "'Grass'"
      ]
     },
     "execution_count": 132,
     "metadata": {},
     "output_type": "execute_result"
    }
   ],
   "source": [
    "classmates = ['李熙伟','王超','张宇','陈强强']\n",
    "len(classmates)\n",
    "team1 = classmates[:2]\n",
    "#这里传递的不是引用，而是值\n",
    "classmates[1] = '李良旭'\n",
    "# print('Team1 is ',team1)\n",
    "# print('All class is ',classmates)\n",
    "meal = [\n",
    "    ['Spider','Duck','Chicken'],\n",
    "    ['Leaves','Grass','Clouds'],\n",
    "    ['Coke','Juice','Bear']\n",
    "]\n",
    "meal[1][1]"
   ]
  },
  {
   "cell_type": "code",
   "execution_count": 138,
   "metadata": {
    "collapsed": false
   },
   "outputs": [
    {
     "name": "stdout",
     "output_type": "stream",
     "text": [
      "BMI = 29.86\n",
      "你个肥仔！\n"
     ]
    }
   ],
   "source": [
    "#BMI\n",
    "height = 1.83\n",
    "weight = 100\n",
    "bmi = weight / height**2\n",
    "print(\"BMI = %.2f\" % bmi)\n",
    "if bmi < 18.5:\n",
    "    print(\"你丫太轻了\")\n",
    "elif bmi < 25:\n",
    "    print(\"你丫正合适\")\n",
    "elif bmi < 28:\n",
    "    print(\"你丫太沉了\")\n",
    "elif bmi < 32 :\n",
    "    print(\"你个肥仔！\")\n",
    "else:\n",
    "    print(\"你怎么不去死？\")"
   ]
  },
  {
   "cell_type": "code",
   "execution_count": 1,
   "metadata": {
    "collapsed": false
   },
   "outputs": [
    {
     "name": "stdout",
     "output_type": "stream",
     "text": [
      "Hello Bart\n",
      "Hello Lisa\n",
      "Hello Adam\n"
     ]
    }
   ],
   "source": [
    "L = ['Bart', 'Lisa', 'Adam']\n",
    "for name in L:\n",
    "    print(\"Hello %s\" % name)\n"
   ]
  },
  {
   "cell_type": "code",
   "execution_count": 40,
   "metadata": {
    "collapsed": false
   },
   "outputs": [
    {
     "ename": "TypeError",
     "evalue": "unhashable type: 'list'",
     "output_type": "error",
     "traceback": [
      "\u001b[1;31m---------------------------------------------------------------------------\u001b[0m",
      "\u001b[1;31mTypeError\u001b[0m                                 Traceback (most recent call last)",
      "\u001b[1;32m<ipython-input-40-d69b8ea527a4>\u001b[0m in \u001b[0;36m<module>\u001b[1;34m()\u001b[0m\n\u001b[0;32m     14\u001b[0m \u001b[0ms2\u001b[0m\u001b[1;33m.\u001b[0m\u001b[0madd\u001b[0m\u001b[1;33m(\u001b[0m\u001b[0mt\u001b[0m\u001b[1;33m)\u001b[0m\u001b[1;33m\u001b[0m\u001b[0m\n\u001b[0;32m     15\u001b[0m \u001b[0mt2\u001b[0m \u001b[1;33m=\u001b[0m \u001b[1;33m(\u001b[0m\u001b[1;36m4\u001b[0m\u001b[1;33m,\u001b[0m\u001b[1;36m6\u001b[0m\u001b[1;33m,\u001b[0m\u001b[1;33m[\u001b[0m\u001b[1;36m9\u001b[0m\u001b[1;33m,\u001b[0m\u001b[1;36m10\u001b[0m\u001b[1;33m]\u001b[0m\u001b[1;33m)\u001b[0m\u001b[1;33m\u001b[0m\u001b[0m\n\u001b[1;32m---> 16\u001b[1;33m \u001b[0ms2\u001b[0m\u001b[1;33m.\u001b[0m\u001b[0madd\u001b[0m\u001b[1;33m(\u001b[0m\u001b[0mt2\u001b[0m\u001b[1;33m)\u001b[0m\u001b[1;33m\u001b[0m\u001b[0m\n\u001b[0m",
      "\u001b[1;31mTypeError\u001b[0m: unhashable type: 'list'"
     ]
    }
   ],
   "source": [
    "dict = {'Niko':100,'Tom':98,'Helen':22}\n",
    "dict['Marry'] = 0\n",
    "# for r in dict.keys():\n",
    "#     print(dict.get(r))\n",
    "s = set([1,2,3,4,5,6,7])\n",
    "s.add(8)\n",
    "s.add(9)\n",
    "s.add(0)\n",
    "s.remove(7)\n",
    "s2 = set([3,5,8,11])\n",
    "s & s2\n",
    "s | s2\n",
    "t = (1,2,3)\n",
    "s2.add(t)\n",
    "t2 = (4,6,[9,10])\n",
    "s2.add(t2)"
   ]
  },
  {
   "cell_type": "code",
   "execution_count": 60,
   "metadata": {
    "collapsed": false
   },
   "outputs": [
    {
     "data": {
      "text/plain": [
       "(1, 2, 3, 1, [])"
      ]
     },
     "execution_count": 60,
     "metadata": {},
     "output_type": "execute_result"
    }
   ],
   "source": [
    "'''\n",
    "不可变对象深入研究\n",
    "tuple是一个不可变对象，但是其中存放了可变的list而不报错，是因为tuple中实质存放的是地址，\n",
    "而其中list地址所指向的值虽然变了，但是list的地址并没有改变，所以认为tuple仍然是不变的\n",
    "'''\n",
    "t = (1,2,3,1,[1,2,3])\n",
    "t[4].append(4)\n",
    "t[4].clear()\n",
    "t"
   ]
  },
  {
   "cell_type": "code",
   "execution_count": 92,
   "metadata": {
    "collapsed": false
   },
   "outputs": [
    {
     "name": "stdout",
     "output_type": "stream",
     "text": [
      "10.707106781186548 10.707106781186548\n",
      "(6.403023058681397, 9.414709848078965)\n"
     ]
    },
    {
     "data": {
      "text/plain": [
       "2"
      ]
     },
     "execution_count": 92,
     "metadata": {},
     "output_type": "execute_result"
    }
   ],
   "source": [
    "def my_abs(n):\n",
    "    if not isinstance(n,(int,float)):\n",
    "        raise TypeError('类型不对啊')\n",
    "    if n > 0:\n",
    "        return n\n",
    "    else:\n",
    "        return -n\n",
    "import math\n",
    "'''\n",
    "虽然这里看起来像是一个函数返回了多个值，在Java中不存在这样的语法\n",
    "但是实际上，这个函数只是返回了一个tuple，而省略了（），所以容易让人产生误解\n",
    "用1个变量去接收这个函数的返回值就能看出来返回值是一个tuple了\n",
    "'''\n",
    "def move(x,y,step,angel = 0):\n",
    "    nx = x + step * math.cos(angel)\n",
    "    ny = y + step * math.sin(angel)\n",
    "    return nx,ny\n",
    "x,y = move(10,10,1,math.pi / 4)\n",
    "result = move(1,1,10,1)\n",
    "print(x,y)\n",
    "print(result)\n",
    "\n",
    "x,y = (1,2)\n"
   ]
  },
  {
   "cell_type": "code",
   "execution_count": 121,
   "metadata": {
    "collapsed": false
   },
   "outputs": [
    {
     "data": {
      "text/plain": [
       "['End']"
      ]
     },
     "execution_count": 121,
     "metadata": {},
     "output_type": "execute_result"
    }
   ],
   "source": [
    "def quadratic(a,b,c):\n",
    "    derta = b**2 - 4*a*c\n",
    "    if derta > 0:\n",
    "        \n",
    "        x1 = (-b + math.sqrt(derta)) / (2*a)\n",
    "        x2 = (-b - math.sqrt(derta)) / (2*a)\n",
    "        return x1,x2\n",
    "    elif derta < 0:\n",
    "        print(\"无根\")\n",
    "        return\n",
    "    else:\n",
    "        x = (-b)/ (2*a)\n",
    "        return x\n",
    "\n",
    "def register(name,gender,age=18,city='BeiJing'):\n",
    "    print('学生信息:',name,gender,age,city)\n",
    "'''\n",
    "默认参数的一个大坑  两次add_end()会出现错误，好像上次的默认值被记住了一样\n",
    "解释：\n",
    "    函数的默认参数也是一个变量，他指向了[],如果改变了L的内容，下次的默认参数就变了\n",
    "    所以默认参数一定要指向一个不变对象\n",
    "    要改变这个例子，可以用None来设置默认参数\n",
    "    将默认参数设置为None，不指向任何对象，调用参数时如果使用默认参数，就将L初始化\n",
    "'''\n",
    "def add_end(L=[]):\n",
    "    L.append(\"END\")\n",
    "    return L\n",
    "\n",
    "def add_end2(L=None):\n",
    "    if L is None:\n",
    "        L = []\n",
    "    L.append(\"End\")\n",
    "    return L\n",
    "\n",
    "add_end2()\n",
    "add_end2()"
   ]
  },
  {
   "cell_type": "code",
   "execution_count": 139,
   "metadata": {
    "collapsed": false
   },
   "outputs": [
    {
     "name": "stdout",
     "output_type": "stream",
     "text": [
      "个人信息: 李熙伟 20 {'Height': 200, 'city': 'BeiJing', 'Weight': 150}\n"
     ]
    },
    {
     "ename": "TypeError",
     "evalue": "student() missing 1 required keyword-only argument: 'age'",
     "output_type": "error",
     "traceback": [
      "\u001b[1;31m---------------------------------------------------------------------------\u001b[0m",
      "\u001b[1;31mTypeError\u001b[0m                                 Traceback (most recent call last)",
      "\u001b[1;32m<ipython-input-139-0a3123cc9e5e>\u001b[0m in \u001b[0;36m<module>\u001b[1;34m()\u001b[0m\n\u001b[0;32m     15\u001b[0m \u001b[0mextra\u001b[0m \u001b[1;33m=\u001b[0m \u001b[1;33m{\u001b[0m\u001b[1;34m'city'\u001b[0m\u001b[1;33m:\u001b[0m\u001b[1;34m'BeiJing'\u001b[0m\u001b[1;33m,\u001b[0m\u001b[1;34m'Height'\u001b[0m\u001b[1;33m:\u001b[0m\u001b[1;36m200\u001b[0m\u001b[1;33m,\u001b[0m\u001b[1;34m'Weight'\u001b[0m\u001b[1;33m:\u001b[0m\u001b[1;36m150\u001b[0m\u001b[1;33m}\u001b[0m\u001b[1;33m\u001b[0m\u001b[0m\n\u001b[0;32m     16\u001b[0m \u001b[0mperson\u001b[0m\u001b[1;33m(\u001b[0m\u001b[1;34m'李熙伟'\u001b[0m\u001b[1;33m,\u001b[0m\u001b[1;36m20\u001b[0m\u001b[1;33m,\u001b[0m\u001b[1;33m**\u001b[0m\u001b[0mextra\u001b[0m\u001b[1;33m)\u001b[0m\u001b[1;33m\u001b[0m\u001b[0m\n\u001b[1;32m---> 17\u001b[1;33m \u001b[0mstudent\u001b[0m\u001b[1;33m(\u001b[0m\u001b[1;34m'Niko'\u001b[0m\u001b[1;33m,\u001b[0m\u001b[0mcity\u001b[0m\u001b[1;33m=\u001b[0m\u001b[1;34m'BeiJing'\u001b[0m\u001b[1;33m)\u001b[0m\u001b[1;33m\u001b[0m\u001b[0m\n\u001b[0m",
      "\u001b[1;31mTypeError\u001b[0m: student() missing 1 required keyword-only argument: 'age'"
     ]
    }
   ],
   "source": [
    "def numbers(*num):\n",
    "    sum = 0;\n",
    "    for x in num:\n",
    "        sum = sum + x\n",
    "    return sum\n",
    "\n",
    "l = (1,2,3,4,5,6,7,8,9,10)\n",
    "numbers(*l)\n",
    "\n",
    "#关键字参数\n",
    "def person(name,age,**kw):\n",
    "    print('个人信息:',name,age,kw)\n",
    "def student(name,*,age,city):\n",
    "    print('学生信息:',name,age,city)\n",
    "extra = {'city':'BeiJing','Height':200,'Weight':150}\n",
    "person('李熙伟',20,**extra)\n",
    "student('Niko',age=18,city='BeiJing')"
   ]
  },
  {
   "cell_type": "code",
   "execution_count": 138,
   "metadata": {
    "collapsed": false
   },
   "outputs": [
    {
     "name": "stdout",
     "output_type": "stream",
     "text": [
      "个人信息: 李熙伟 18 () {}\n",
      "个人信息: 李熙伟 18 (0, 1, 2, 3, 4) {'Country': 'China', 'city': 'BeiJing'}\n"
     ]
    }
   ],
   "source": [
    "'''\n",
    "必选参数、默认参数，可变参数，关键字参数，命名关键字参数\n",
    "'''\n",
    "def person(name,age=18,*args,**extra):\n",
    "    print(\"个人信息:\",name,age,args,extra)\n",
    "person(\"李熙伟\")\n",
    "extra = {\"city\":'BeiJing','Country':'China'}\n",
    "person(\"李熙伟\",18,*range(5),**extra)"
   ]
  },
  {
   "cell_type": "code",
   "execution_count": 12,
   "metadata": {
    "collapsed": false
   },
   "outputs": [
    {
     "name": "stdout",
     "output_type": "stream",
     "text": [
      "move A --> C\n",
      "move A --> B\n",
      "move C --> B\n",
      "move A --> C\n",
      "move B --> A\n",
      "move B --> C\n",
      "move A --> C\n"
     ]
    }
   ],
   "source": [
    "# 利用递归函数移动汉诺塔:\n",
    "def move(n, a, b, c):\n",
    "    if n == 1:\n",
    "        print('move', a, '-->', c)\n",
    "        return\n",
    "    move(n-1, a, c, b)\n",
    "    print('move', a, '-->', c)\n",
    "    move(n-1, b, a, c)\n",
    "\n",
    "move(3, 'A', 'B', 'C')"
   ]
  }
 ],
 "metadata": {
  "kernelspec": {
   "display_name": "Python 3",
   "language": "python",
   "name": "python3"
  },
  "language_info": {
   "codemirror_mode": {
    "name": "ipython",
    "version": 3
   },
   "file_extension": ".py",
   "mimetype": "text/x-python",
   "name": "python",
   "nbconvert_exporter": "python",
   "pygments_lexer": "ipython3",
   "version": "3.5.1"
  }
 },
 "nbformat": 4,
 "nbformat_minor": 0
}
